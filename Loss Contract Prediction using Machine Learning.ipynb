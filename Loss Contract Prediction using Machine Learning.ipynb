{
 "cells": [
  {
   "cell_type": "markdown",
   "metadata": {},
   "source": [
    "# Offline Exercise\n",
    "\n",
    "This notebook has the questions and instructions for the offline exercise. If you haven't already, please go through the `README.md` file before you begin answering the questions here.\n",
    "\n",
    "Make sure you do NOT commit your answers back to the repo. Instead, copy-paste this notebook together with the `touches.sqlite3` file to a separate folder in your machine, type your answers in that copied notebook, and when you're done, share the new Jupyter notebook back with the recruiter together with additional modules, graphs etc. that you may have. You would need to use the data in the `touches.sqlite3` file to answer all the questions."
   ]
  },
  {
   "cell_type": "markdown",
   "metadata": {},
   "source": [
    "### Question 1. Find the most common industry out of all the companies that were `contacted`.\n",
    "\n",
    "### Show All the Tables in Database\n",
    "\n",
    "- I will read all the data from database into Pandas dataframes. Pandas dataframes are efficient data structure for fast data manipulation. The alternative can be read data as required but because we need same data for later exercises, therefore I will read data in dataframes."
   ]
  },
  {
   "cell_type": "code",
   "execution_count": 1,
   "metadata": {},
   "outputs": [
    {
     "name": "stdout",
     "output_type": "stream",
     "text": [
      "Following tables are in the database\n",
      "[('opportunities',), ('companies',), ('persons',), ('touches',)]\n"
     ]
    }
   ],
   "source": [
    "import pandas as pd\n",
    "import sqlite3\n",
    "\n",
    "con = sqlite3.connect(\"touches.sqlite3\")\n",
    "\n",
    "cursor = con. cursor()\n",
    "cursor. execute(\"SELECT name FROM sqlite_master WHERE type='table';\")\n",
    "print(\"Following tables are in the database\")\n",
    "print(cursor. fetchall())\n",
    "\n",
    "con.close()"
   ]
  },
  {
   "cell_type": "markdown",
   "metadata": {},
   "source": [
    "### Read data from Oppurtunities Table"
   ]
  },
  {
   "cell_type": "code",
   "execution_count": 3,
   "metadata": {},
   "outputs": [
    {
     "name": "stdout",
     "output_type": "stream",
     "text": [
      "opportunities Table Overview\n"
     ]
    },
    {
     "data": {
      "text/html": [
       "<div>\n",
       "<style scoped>\n",
       "    .dataframe tbody tr th:only-of-type {\n",
       "        vertical-align: middle;\n",
       "    }\n",
       "\n",
       "    .dataframe tbody tr th {\n",
       "        vertical-align: top;\n",
       "    }\n",
       "\n",
       "    .dataframe thead th {\n",
       "        text-align: right;\n",
       "    }\n",
       "</style>\n",
       "<table border=\"1\" class=\"dataframe\">\n",
       "  <thead>\n",
       "    <tr style=\"text-align: right;\">\n",
       "      <th></th>\n",
       "      <th>id</th>\n",
       "      <th>company_id</th>\n",
       "      <th>created_at</th>\n",
       "      <th>latest_stage</th>\n",
       "    </tr>\n",
       "  </thead>\n",
       "  <tbody>\n",
       "    <tr>\n",
       "      <th>0</th>\n",
       "      <td>1</td>\n",
       "      <td>3633</td>\n",
       "      <td>2018-01-01 20:38:03.267059</td>\n",
       "      <td>Closed Lost</td>\n",
       "    </tr>\n",
       "    <tr>\n",
       "      <th>1</th>\n",
       "      <td>3</td>\n",
       "      <td>5639</td>\n",
       "      <td>2018-01-01 20:38:03.316160</td>\n",
       "      <td>Closed Lost</td>\n",
       "    </tr>\n",
       "    <tr>\n",
       "      <th>2</th>\n",
       "      <td>4</td>\n",
       "      <td>886</td>\n",
       "      <td>2018-01-01 20:38:03.334316</td>\n",
       "      <td>Closed Lost</td>\n",
       "    </tr>\n",
       "    <tr>\n",
       "      <th>3</th>\n",
       "      <td>5</td>\n",
       "      <td>588</td>\n",
       "      <td>2018-01-01 20:38:03.343280</td>\n",
       "      <td>Closed Lost</td>\n",
       "    </tr>\n",
       "    <tr>\n",
       "      <th>4</th>\n",
       "      <td>6</td>\n",
       "      <td>4798</td>\n",
       "      <td>2018-01-01 20:38:03.346662</td>\n",
       "      <td>Closed Lost</td>\n",
       "    </tr>\n",
       "  </tbody>\n",
       "</table>\n",
       "</div>"
      ],
      "text/plain": [
       "   id  company_id                  created_at latest_stage\n",
       "0   1        3633  2018-01-01 20:38:03.267059  Closed Lost\n",
       "1   3        5639  2018-01-01 20:38:03.316160  Closed Lost\n",
       "2   4         886  2018-01-01 20:38:03.334316  Closed Lost\n",
       "3   5         588  2018-01-01 20:38:03.343280  Closed Lost\n",
       "4   6        4798  2018-01-01 20:38:03.346662  Closed Lost"
      ]
     },
     "execution_count": 3,
     "metadata": {},
     "output_type": "execute_result"
    }
   ],
   "source": [
    "con = sqlite3.connect(\"touches.sqlite3\")\n",
    "\n",
    "# Load the data into a DataFrame\n",
    "print(\"opportunities Table Overview\")\n",
    "opportunities = pd.read_sql_query(\"SELECT * from opportunities\", con)\n",
    "\n",
    "con.close()\n",
    "\n",
    "opportunities.head(5)"
   ]
  },
  {
   "cell_type": "markdown",
   "metadata": {},
   "source": [
    "### Extract Companies being contacted\n",
    "\n",
    "- We can do this using SQL or Pandas\n",
    "\n",
    "### Extract Companies being contacted using SQL"
   ]
  },
  {
   "cell_type": "code",
   "execution_count": 4,
   "metadata": {},
   "outputs": [
    {
     "name": "stdout",
     "output_type": "stream",
     "text": [
      "Total companies being contacted are 5627\n"
     ]
    },
    {
     "data": {
      "text/html": [
       "<div>\n",
       "<style scoped>\n",
       "    .dataframe tbody tr th:only-of-type {\n",
       "        vertical-align: middle;\n",
       "    }\n",
       "\n",
       "    .dataframe tbody tr th {\n",
       "        vertical-align: top;\n",
       "    }\n",
       "\n",
       "    .dataframe thead th {\n",
       "        text-align: right;\n",
       "    }\n",
       "</style>\n",
       "<table border=\"1\" class=\"dataframe\">\n",
       "  <thead>\n",
       "    <tr style=\"text-align: right;\">\n",
       "      <th></th>\n",
       "      <th>id</th>\n",
       "      <th>company_id</th>\n",
       "      <th>created_at</th>\n",
       "      <th>latest_stage</th>\n",
       "    </tr>\n",
       "  </thead>\n",
       "  <tbody>\n",
       "    <tr>\n",
       "      <th>0</th>\n",
       "      <td>1</td>\n",
       "      <td>3633</td>\n",
       "      <td>2018-01-01 20:38:03.267059</td>\n",
       "      <td>Closed Lost</td>\n",
       "    </tr>\n",
       "    <tr>\n",
       "      <th>1</th>\n",
       "      <td>3</td>\n",
       "      <td>5639</td>\n",
       "      <td>2018-01-01 20:38:03.316160</td>\n",
       "      <td>Closed Lost</td>\n",
       "    </tr>\n",
       "    <tr>\n",
       "      <th>2</th>\n",
       "      <td>4</td>\n",
       "      <td>886</td>\n",
       "      <td>2018-01-01 20:38:03.334316</td>\n",
       "      <td>Closed Lost</td>\n",
       "    </tr>\n",
       "    <tr>\n",
       "      <th>3</th>\n",
       "      <td>5</td>\n",
       "      <td>588</td>\n",
       "      <td>2018-01-01 20:38:03.343280</td>\n",
       "      <td>Closed Lost</td>\n",
       "    </tr>\n",
       "    <tr>\n",
       "      <th>4</th>\n",
       "      <td>6</td>\n",
       "      <td>4798</td>\n",
       "      <td>2018-01-01 20:38:03.346662</td>\n",
       "      <td>Closed Lost</td>\n",
       "    </tr>\n",
       "  </tbody>\n",
       "</table>\n",
       "</div>"
      ],
      "text/plain": [
       "   id  company_id                  created_at latest_stage\n",
       "0   1        3633  2018-01-01 20:38:03.267059  Closed Lost\n",
       "1   3        5639  2018-01-01 20:38:03.316160  Closed Lost\n",
       "2   4         886  2018-01-01 20:38:03.334316  Closed Lost\n",
       "3   5         588  2018-01-01 20:38:03.343280  Closed Lost\n",
       "4   6        4798  2018-01-01 20:38:03.346662  Closed Lost"
      ]
     },
     "execution_count": 4,
     "metadata": {},
     "output_type": "execute_result"
    }
   ],
   "source": [
    "con = sqlite3.connect(\"touches.sqlite3\")\n",
    "\n",
    "companies_being_contacted_sql = pd.read_sql_query(\"SELECT * from opportunities WHERE latest_stage IN ('Closed Won', 'Closed Lost', 'Disqualified')\", con)\n",
    "\n",
    "con.close()\n",
    "\n",
    "print(\"Total companies being contacted are {}\".format(companies_being_contacted_sql.shape[0]))\n",
    "\n",
    "companies_being_contacted_sql.head(5)"
   ]
  },
  {
   "cell_type": "markdown",
   "metadata": {},
   "source": [
    "### Extract Companies being contacted using Pandas"
   ]
  },
  {
   "cell_type": "code",
   "execution_count": 5,
   "metadata": {},
   "outputs": [
    {
     "name": "stdout",
     "output_type": "stream",
     "text": [
      "Total companies being contacted are 5627\n"
     ]
    },
    {
     "data": {
      "text/html": [
       "<div>\n",
       "<style scoped>\n",
       "    .dataframe tbody tr th:only-of-type {\n",
       "        vertical-align: middle;\n",
       "    }\n",
       "\n",
       "    .dataframe tbody tr th {\n",
       "        vertical-align: top;\n",
       "    }\n",
       "\n",
       "    .dataframe thead th {\n",
       "        text-align: right;\n",
       "    }\n",
       "</style>\n",
       "<table border=\"1\" class=\"dataframe\">\n",
       "  <thead>\n",
       "    <tr style=\"text-align: right;\">\n",
       "      <th></th>\n",
       "      <th>id</th>\n",
       "      <th>company_id</th>\n",
       "      <th>created_at</th>\n",
       "      <th>latest_stage</th>\n",
       "    </tr>\n",
       "  </thead>\n",
       "  <tbody>\n",
       "    <tr>\n",
       "      <th>0</th>\n",
       "      <td>1</td>\n",
       "      <td>3633</td>\n",
       "      <td>2018-01-01 20:38:03.267059</td>\n",
       "      <td>Closed Lost</td>\n",
       "    </tr>\n",
       "    <tr>\n",
       "      <th>1</th>\n",
       "      <td>3</td>\n",
       "      <td>5639</td>\n",
       "      <td>2018-01-01 20:38:03.316160</td>\n",
       "      <td>Closed Lost</td>\n",
       "    </tr>\n",
       "    <tr>\n",
       "      <th>2</th>\n",
       "      <td>4</td>\n",
       "      <td>886</td>\n",
       "      <td>2018-01-01 20:38:03.334316</td>\n",
       "      <td>Closed Lost</td>\n",
       "    </tr>\n",
       "    <tr>\n",
       "      <th>3</th>\n",
       "      <td>5</td>\n",
       "      <td>588</td>\n",
       "      <td>2018-01-01 20:38:03.343280</td>\n",
       "      <td>Closed Lost</td>\n",
       "    </tr>\n",
       "    <tr>\n",
       "      <th>4</th>\n",
       "      <td>6</td>\n",
       "      <td>4798</td>\n",
       "      <td>2018-01-01 20:38:03.346662</td>\n",
       "      <td>Closed Lost</td>\n",
       "    </tr>\n",
       "  </tbody>\n",
       "</table>\n",
       "</div>"
      ],
      "text/plain": [
       "   id  company_id                  created_at latest_stage\n",
       "0   1        3633  2018-01-01 20:38:03.267059  Closed Lost\n",
       "1   3        5639  2018-01-01 20:38:03.316160  Closed Lost\n",
       "2   4         886  2018-01-01 20:38:03.334316  Closed Lost\n",
       "3   5         588  2018-01-01 20:38:03.343280  Closed Lost\n",
       "4   6        4798  2018-01-01 20:38:03.346662  Closed Lost"
      ]
     },
     "execution_count": 5,
     "metadata": {},
     "output_type": "execute_result"
    }
   ],
   "source": [
    "companies_being_contacted_pandas = opportunities[opportunities['latest_stage'].isin(['Closed Won', 'Closed Lost', 'Disqualified'])]\n",
    "\n",
    "print(\"Total companies being contacted are {}\".format(companies_being_contacted_pandas.shape[0]))\n",
    "\n",
    "companies_being_contacted_pandas.head(5)"
   ]
  },
  {
   "cell_type": "markdown",
   "metadata": {},
   "source": [
    "### Read data from Companies Table"
   ]
  },
  {
   "cell_type": "code",
   "execution_count": 6,
   "metadata": {},
   "outputs": [
    {
     "name": "stdout",
     "output_type": "stream",
     "text": [
      "companies Table Overview\n"
     ]
    },
    {
     "data": {
      "text/html": [
       "<div>\n",
       "<style scoped>\n",
       "    .dataframe tbody tr th:only-of-type {\n",
       "        vertical-align: middle;\n",
       "    }\n",
       "\n",
       "    .dataframe tbody tr th {\n",
       "        vertical-align: top;\n",
       "    }\n",
       "\n",
       "    .dataframe thead th {\n",
       "        text-align: right;\n",
       "    }\n",
       "</style>\n",
       "<table border=\"1\" class=\"dataframe\">\n",
       "  <thead>\n",
       "    <tr style=\"text-align: right;\">\n",
       "      <th></th>\n",
       "      <th>id</th>\n",
       "      <th>industry</th>\n",
       "      <th>size</th>\n",
       "      <th>location</th>\n",
       "    </tr>\n",
       "  </thead>\n",
       "  <tbody>\n",
       "    <tr>\n",
       "      <th>0</th>\n",
       "      <td>1</td>\n",
       "      <td>Diversified Telecommunication Services</td>\n",
       "      <td>51-200 employees</td>\n",
       "      <td>US/Eastern</td>\n",
       "    </tr>\n",
       "    <tr>\n",
       "      <th>1</th>\n",
       "      <td>2</td>\n",
       "      <td>Internet Software &amp; Services</td>\n",
       "      <td>51-200 employees</td>\n",
       "      <td>US/Mountain</td>\n",
       "    </tr>\n",
       "    <tr>\n",
       "      <th>2</th>\n",
       "      <td>4</td>\n",
       "      <td>Internet Software &amp; Services</td>\n",
       "      <td></td>\n",
       "      <td>US/Pacific</td>\n",
       "    </tr>\n",
       "    <tr>\n",
       "      <th>3</th>\n",
       "      <td>6</td>\n",
       "      <td>Diversified Financial Services</td>\n",
       "      <td>11-50 employees</td>\n",
       "      <td>US/Pacific</td>\n",
       "    </tr>\n",
       "    <tr>\n",
       "      <th>4</th>\n",
       "      <td>8</td>\n",
       "      <td>Telecommunications</td>\n",
       "      <td></td>\n",
       "      <td>US/Eastern</td>\n",
       "    </tr>\n",
       "  </tbody>\n",
       "</table>\n",
       "</div>"
      ],
      "text/plain": [
       "   id                                industry              size     location\n",
       "0   1  Diversified Telecommunication Services  51-200 employees   US/Eastern\n",
       "1   2            Internet Software & Services  51-200 employees  US/Mountain\n",
       "2   4            Internet Software & Services                     US/Pacific\n",
       "3   6          Diversified Financial Services   11-50 employees   US/Pacific\n",
       "4   8                      Telecommunications                     US/Eastern"
      ]
     },
     "execution_count": 6,
     "metadata": {},
     "output_type": "execute_result"
    }
   ],
   "source": [
    "con = sqlite3.connect(\"touches.sqlite3\")\n",
    "\n",
    "# Load the data into a DataFrame\n",
    "print(\"companies Table Overview\")\n",
    "companies = pd.read_sql_query(\"SELECT * from companies\", con)\n",
    "\n",
    "con.close()\n",
    "\n",
    "companies.head(5)"
   ]
  },
  {
   "cell_type": "markdown",
   "metadata": {},
   "source": [
    "### Read data from Persons Table"
   ]
  },
  {
   "cell_type": "code",
   "execution_count": 7,
   "metadata": {},
   "outputs": [
    {
     "name": "stdout",
     "output_type": "stream",
     "text": [
      "persons Table Overview\n"
     ]
    },
    {
     "data": {
      "text/html": [
       "<div>\n",
       "<style scoped>\n",
       "    .dataframe tbody tr th:only-of-type {\n",
       "        vertical-align: middle;\n",
       "    }\n",
       "\n",
       "    .dataframe tbody tr th {\n",
       "        vertical-align: top;\n",
       "    }\n",
       "\n",
       "    .dataframe thead th {\n",
       "        text-align: right;\n",
       "    }\n",
       "</style>\n",
       "<table border=\"1\" class=\"dataframe\">\n",
       "  <thead>\n",
       "    <tr style=\"text-align: right;\">\n",
       "      <th></th>\n",
       "      <th>id</th>\n",
       "      <th>company_id</th>\n",
       "      <th>job_seniority</th>\n",
       "    </tr>\n",
       "  </thead>\n",
       "  <tbody>\n",
       "    <tr>\n",
       "      <th>0</th>\n",
       "      <td>61</td>\n",
       "      <td>1</td>\n",
       "      <td>Vice President</td>\n",
       "    </tr>\n",
       "    <tr>\n",
       "      <th>1</th>\n",
       "      <td>62</td>\n",
       "      <td>1</td>\n",
       "      <td>Manager</td>\n",
       "    </tr>\n",
       "    <tr>\n",
       "      <th>2</th>\n",
       "      <td>63</td>\n",
       "      <td>1</td>\n",
       "      <td>Executive</td>\n",
       "    </tr>\n",
       "    <tr>\n",
       "      <th>3</th>\n",
       "      <td>64</td>\n",
       "      <td>1</td>\n",
       "      <td>Director</td>\n",
       "    </tr>\n",
       "    <tr>\n",
       "      <th>4</th>\n",
       "      <td>65</td>\n",
       "      <td>1</td>\n",
       "      <td>Individual Contributor</td>\n",
       "    </tr>\n",
       "  </tbody>\n",
       "</table>\n",
       "</div>"
      ],
      "text/plain": [
       "   id  company_id           job_seniority\n",
       "0  61           1          Vice President\n",
       "1  62           1                 Manager\n",
       "2  63           1               Executive\n",
       "3  64           1                Director\n",
       "4  65           1  Individual Contributor"
      ]
     },
     "execution_count": 7,
     "metadata": {},
     "output_type": "execute_result"
    }
   ],
   "source": [
    "con = sqlite3.connect(\"touches.sqlite3\")\n",
    "\n",
    "# Load the data into a DataFrame\n",
    "print(\"persons Table Overview\")\n",
    "persons = pd.read_sql_query(\"SELECT * from persons\", con)\n",
    "\n",
    "con.close()\n",
    "\n",
    "persons.head(5)"
   ]
  },
  {
   "cell_type": "markdown",
   "metadata": {},
   "source": [
    "### Read data from Touches Table"
   ]
  },
  {
   "cell_type": "code",
   "execution_count": 8,
   "metadata": {},
   "outputs": [
    {
     "name": "stdout",
     "output_type": "stream",
     "text": [
      "touches Table Overview\n"
     ]
    },
    {
     "data": {
      "text/html": [
       "<div>\n",
       "<style scoped>\n",
       "    .dataframe tbody tr th:only-of-type {\n",
       "        vertical-align: middle;\n",
       "    }\n",
       "\n",
       "    .dataframe tbody tr th {\n",
       "        vertical-align: top;\n",
       "    }\n",
       "\n",
       "    .dataframe thead th {\n",
       "        text-align: right;\n",
       "    }\n",
       "</style>\n",
       "<table border=\"1\" class=\"dataframe\">\n",
       "  <thead>\n",
       "    <tr style=\"text-align: right;\">\n",
       "      <th></th>\n",
       "      <th>id</th>\n",
       "      <th>person_id</th>\n",
       "      <th>touch_scheduled_on</th>\n",
       "      <th>status</th>\n",
       "      <th>touch_type</th>\n",
       "    </tr>\n",
       "  </thead>\n",
       "  <tbody>\n",
       "    <tr>\n",
       "      <th>0</th>\n",
       "      <td>166087</td>\n",
       "      <td>127117</td>\n",
       "      <td>2017-06-01</td>\n",
       "      <td>completed</td>\n",
       "      <td>Phone</td>\n",
       "    </tr>\n",
       "    <tr>\n",
       "      <th>1</th>\n",
       "      <td>166088</td>\n",
       "      <td>108969</td>\n",
       "      <td>2017-06-01</td>\n",
       "      <td>completed</td>\n",
       "      <td>Other</td>\n",
       "    </tr>\n",
       "    <tr>\n",
       "      <th>2</th>\n",
       "      <td>166089</td>\n",
       "      <td>107761</td>\n",
       "      <td>2017-06-01</td>\n",
       "      <td>completed</td>\n",
       "      <td>Phone</td>\n",
       "    </tr>\n",
       "    <tr>\n",
       "      <th>3</th>\n",
       "      <td>166091</td>\n",
       "      <td>77118</td>\n",
       "      <td>2017-06-01</td>\n",
       "      <td>completed</td>\n",
       "      <td>Other</td>\n",
       "    </tr>\n",
       "    <tr>\n",
       "      <th>4</th>\n",
       "      <td>166093</td>\n",
       "      <td>106696</td>\n",
       "      <td>2017-06-01</td>\n",
       "      <td>completed</td>\n",
       "      <td>Other</td>\n",
       "    </tr>\n",
       "  </tbody>\n",
       "</table>\n",
       "</div>"
      ],
      "text/plain": [
       "       id  person_id touch_scheduled_on     status touch_type\n",
       "0  166087     127117         2017-06-01  completed      Phone\n",
       "1  166088     108969         2017-06-01  completed      Other\n",
       "2  166089     107761         2017-06-01  completed      Phone\n",
       "3  166091      77118         2017-06-01  completed      Other\n",
       "4  166093     106696         2017-06-01  completed      Other"
      ]
     },
     "execution_count": 8,
     "metadata": {},
     "output_type": "execute_result"
    }
   ],
   "source": [
    "con = sqlite3.connect(\"touches.sqlite3\")\n",
    "\n",
    "# Load the data into a DataFrame\n",
    "print(\"touches Table Overview\")\n",
    "touches = pd.read_sql_query(\"SELECT * from touches\", con)\n",
    "\n",
    "con.close()\n",
    "\n",
    "touches.head(5)"
   ]
  },
  {
   "cell_type": "markdown",
   "metadata": {},
   "source": [
    "## Data Understanding\n",
    "\n",
    "The agent contact person in a company (the person can be of any designation) through email or phone or other ways. In this the negotiation/ engagement started. The agent carry on negotiation and then at final stages either the contract with company lost or win or disqualified. \n",
    "\n",
    "There are 4 tables and tables are inter-connected through fields (which can be used to join tables). Different tables represent different entities.\n",
    "\n",
    "All the columns are of categorical type except two which are date type. "
   ]
  },
  {
   "cell_type": "code",
   "execution_count": 9,
   "metadata": {},
   "outputs": [
    {
     "name": "stdout",
     "output_type": "stream",
     "text": [
      "Create Combine DataFrame\n"
     ]
    },
    {
     "data": {
      "text/html": [
       "<div>\n",
       "<style scoped>\n",
       "    .dataframe tbody tr th:only-of-type {\n",
       "        vertical-align: middle;\n",
       "    }\n",
       "\n",
       "    .dataframe tbody tr th {\n",
       "        vertical-align: top;\n",
       "    }\n",
       "\n",
       "    .dataframe thead th {\n",
       "        text-align: right;\n",
       "    }\n",
       "</style>\n",
       "<table border=\"1\" class=\"dataframe\">\n",
       "  <thead>\n",
       "    <tr style=\"text-align: right;\">\n",
       "      <th></th>\n",
       "      <th>id_x</th>\n",
       "      <th>person_id</th>\n",
       "      <th>touch_scheduled_on</th>\n",
       "      <th>status</th>\n",
       "      <th>touch_type</th>\n",
       "      <th>company_id</th>\n",
       "      <th>job_seniority</th>\n",
       "      <th>id_y</th>\n",
       "      <th>industry</th>\n",
       "      <th>size</th>\n",
       "      <th>location</th>\n",
       "      <th>id</th>\n",
       "      <th>created_at</th>\n",
       "      <th>latest_stage</th>\n",
       "    </tr>\n",
       "  </thead>\n",
       "  <tbody>\n",
       "    <tr>\n",
       "      <th>0</th>\n",
       "      <td>166087</td>\n",
       "      <td>127117</td>\n",
       "      <td>2017-06-01</td>\n",
       "      <td>completed</td>\n",
       "      <td>Phone</td>\n",
       "      <td>8542</td>\n",
       "      <td>Vice President</td>\n",
       "      <td>8542.0</td>\n",
       "      <td>Air Freight &amp; Logistics</td>\n",
       "      <td></td>\n",
       "      <td>US/Pacific</td>\n",
       "      <td>NaN</td>\n",
       "      <td>NaN</td>\n",
       "      <td>NaN</td>\n",
       "    </tr>\n",
       "    <tr>\n",
       "      <th>1</th>\n",
       "      <td>166088</td>\n",
       "      <td>108969</td>\n",
       "      <td>2017-06-01</td>\n",
       "      <td>completed</td>\n",
       "      <td>Other</td>\n",
       "      <td>8542</td>\n",
       "      <td>Manager</td>\n",
       "      <td>8542.0</td>\n",
       "      <td>Air Freight &amp; Logistics</td>\n",
       "      <td></td>\n",
       "      <td>US/Pacific</td>\n",
       "      <td>NaN</td>\n",
       "      <td>NaN</td>\n",
       "      <td>NaN</td>\n",
       "    </tr>\n",
       "    <tr>\n",
       "      <th>2</th>\n",
       "      <td>166089</td>\n",
       "      <td>107761</td>\n",
       "      <td>2017-06-01</td>\n",
       "      <td>completed</td>\n",
       "      <td>Phone</td>\n",
       "      <td>8542</td>\n",
       "      <td>Director</td>\n",
       "      <td>8542.0</td>\n",
       "      <td>Air Freight &amp; Logistics</td>\n",
       "      <td></td>\n",
       "      <td>US/Pacific</td>\n",
       "      <td>NaN</td>\n",
       "      <td>NaN</td>\n",
       "      <td>NaN</td>\n",
       "    </tr>\n",
       "    <tr>\n",
       "      <th>3</th>\n",
       "      <td>166091</td>\n",
       "      <td>77118</td>\n",
       "      <td>2017-06-01</td>\n",
       "      <td>completed</td>\n",
       "      <td>Other</td>\n",
       "      <td>8542</td>\n",
       "      <td>Unknown</td>\n",
       "      <td>8542.0</td>\n",
       "      <td>Air Freight &amp; Logistics</td>\n",
       "      <td></td>\n",
       "      <td>US/Pacific</td>\n",
       "      <td>NaN</td>\n",
       "      <td>NaN</td>\n",
       "      <td>NaN</td>\n",
       "    </tr>\n",
       "    <tr>\n",
       "      <th>4</th>\n",
       "      <td>166093</td>\n",
       "      <td>106696</td>\n",
       "      <td>2017-06-01</td>\n",
       "      <td>completed</td>\n",
       "      <td>Other</td>\n",
       "      <td>8542</td>\n",
       "      <td>Vice President</td>\n",
       "      <td>8542.0</td>\n",
       "      <td>Air Freight &amp; Logistics</td>\n",
       "      <td></td>\n",
       "      <td>US/Pacific</td>\n",
       "      <td>NaN</td>\n",
       "      <td>NaN</td>\n",
       "      <td>NaN</td>\n",
       "    </tr>\n",
       "  </tbody>\n",
       "</table>\n",
       "</div>"
      ],
      "text/plain": [
       "     id_x  person_id touch_scheduled_on     status touch_type  company_id  \\\n",
       "0  166087     127117         2017-06-01  completed      Phone        8542   \n",
       "1  166088     108969         2017-06-01  completed      Other        8542   \n",
       "2  166089     107761         2017-06-01  completed      Phone        8542   \n",
       "3  166091      77118         2017-06-01  completed      Other        8542   \n",
       "4  166093     106696         2017-06-01  completed      Other        8542   \n",
       "\n",
       "    job_seniority    id_y                 industry size    location  id  \\\n",
       "0  Vice President  8542.0  Air Freight & Logistics       US/Pacific NaN   \n",
       "1         Manager  8542.0  Air Freight & Logistics       US/Pacific NaN   \n",
       "2        Director  8542.0  Air Freight & Logistics       US/Pacific NaN   \n",
       "3         Unknown  8542.0  Air Freight & Logistics       US/Pacific NaN   \n",
       "4  Vice President  8542.0  Air Freight & Logistics       US/Pacific NaN   \n",
       "\n",
       "  created_at latest_stage  \n",
       "0        NaN          NaN  \n",
       "1        NaN          NaN  \n",
       "2        NaN          NaN  \n",
       "3        NaN          NaN  \n",
       "4        NaN          NaN  "
      ]
     },
     "execution_count": 9,
     "metadata": {},
     "output_type": "execute_result"
    }
   ],
   "source": [
    "print(\"Create Combine DataFrame\")\n",
    "\n",
    "dataset = touches.merge(persons, on='id', how='left')\n",
    "\n",
    "dataset = dataset.merge(companies, left_on='company_id', right_on=\"id\", how='left')\n",
    "dataset['company_id'] = dataset['company_id'].fillna(0)\n",
    "dataset['company_id'] = dataset['company_id'].astype(int)\n",
    "\n",
    "dataset = dataset.merge(opportunities, on='company_id', how='left')\n",
    "\n",
    "dataset.head(5)"
   ]
  },
  {
   "cell_type": "code",
   "execution_count": 10,
   "metadata": {},
   "outputs": [
    {
     "data": {
      "text/plain": [
       "Closed Lost     1014\n",
       "Closed Won       428\n",
       "Disqualified     284\n",
       "Discovery         40\n",
       "Developing        29\n",
       "SDR Open          13\n",
       "Name: latest_stage, dtype: int64"
      ]
     },
     "execution_count": 10,
     "metadata": {},
     "output_type": "execute_result"
    }
   ],
   "source": [
    "dataset.drop_duplicates(subset=['person_id'])['latest_stage'].value_counts()"
   ]
  },
  {
   "cell_type": "markdown",
   "metadata": {},
   "source": [
    "### Companies Types Contacted"
   ]
  },
  {
   "cell_type": "code",
   "execution_count": 11,
   "metadata": {},
   "outputs": [],
   "source": [
    "companies_types = companies[companies['id'].isin(companies_being_contacted_pandas['company_id'].values)]"
   ]
  },
  {
   "cell_type": "code",
   "execution_count": 12,
   "metadata": {},
   "outputs": [
    {
     "data": {
      "text/plain": [
       "Text(0.5, 1.0, 'Top 20 Industry Types')"
      ]
     },
     "execution_count": 12,
     "metadata": {},
     "output_type": "execute_result"
    },
    {
     "data": {
      "image/png": "[encoded data removed]",
      "text/plain": [
       "<Figure size 720x360 with 1 Axes>"
      ]
     },
     "metadata": {
      "needs_background": "light"
     },
     "output_type": "display_data"
    }
   ],
   "source": [
    "%matplotlib inline\n",
    "import matplotlib.pyplot as plt\n",
    "\n",
    "plt.figure(figsize=(10, 5))\n",
    "companies_types[\"industry\"].value_counts().head(20).plot.bar()\n",
    "plt.ylabel(\"Count of Industry Type Being Contacted\")\n",
    "plt.xlabel(\"Industry Type\")\n",
    "plt.title(\"Top 20 Industry Types\")"
   ]
  },
  {
   "cell_type": "code",
   "execution_count": 13,
   "metadata": {},
   "outputs": [
    {
     "data": {
      "text/plain": [
       "Internet Software & Services     2512\n",
       "Professional Services             685\n",
       "                                  625\n",
       "Computer Software                 188\n",
       "Media                             126\n",
       "                                 ... \n",
       "Human Resources Software            1\n",
       "Not For Profit                      1\n",
       "Metals & Mining                     1\n",
       "Food & Beverage                     1\n",
       "Software Development & Design       1\n",
       "Name: industry, Length: 191, dtype: int64"
      ]
     },
     "execution_count": 13,
     "metadata": {},
     "output_type": "execute_result"
    }
   ],
   "source": [
    "companies_types[\"industry\"].value_counts()"
   ]
  },
  {
   "cell_type": "code",
   "execution_count": 14,
   "metadata": {},
   "outputs": [
    {
     "data": {
      "text/plain": [
       "Internet Software & Services     44.64\n",
       "Professional Services            12.17\n",
       "                                 11.11\n",
       "Computer Software                 3.34\n",
       "Media                             2.24\n",
       "                                 ...  \n",
       "Human Resources Software          0.02\n",
       "Not For Profit                    0.02\n",
       "Metals & Mining                   0.02\n",
       "Food & Beverage                   0.02\n",
       "Software Development & Design     0.02\n",
       "Name: industry, Length: 191, dtype: float64"
      ]
     },
     "execution_count": 14,
     "metadata": {},
     "output_type": "execute_result"
    }
   ],
   "source": [
    "companies_types[\"industry\"].value_counts(normalize=True).mul(100).round(2)"
   ]
  },
  {
   "cell_type": "markdown",
   "metadata": {},
   "source": [
    "## `INTERNET SOFTWARE & SERVICES` is the most common industry out of all the companies that were contacted."
   ]
  },
  {
   "cell_type": "markdown",
   "metadata": {},
   "source": [
    "### Question 2. What is the most common touch type sellers use when they’re making their first touch with a person? What about first touch with a company?"
   ]
  },
  {
   "cell_type": "code",
   "execution_count": 15,
   "metadata": {},
   "outputs": [
    {
     "data": {
      "text/html": [
       "<div>\n",
       "<style scoped>\n",
       "    .dataframe tbody tr th:only-of-type {\n",
       "        vertical-align: middle;\n",
       "    }\n",
       "\n",
       "    .dataframe tbody tr th {\n",
       "        vertical-align: top;\n",
       "    }\n",
       "\n",
       "    .dataframe thead th {\n",
       "        text-align: right;\n",
       "    }\n",
       "</style>\n",
       "<table border=\"1\" class=\"dataframe\">\n",
       "  <thead>\n",
       "    <tr style=\"text-align: right;\">\n",
       "      <th></th>\n",
       "      <th>person_id</th>\n",
       "      <th>id</th>\n",
       "      <th>touch_scheduled_on</th>\n",
       "      <th>status</th>\n",
       "      <th>touch_type</th>\n",
       "    </tr>\n",
       "  </thead>\n",
       "  <tbody>\n",
       "    <tr>\n",
       "      <th>0</th>\n",
       "      <td>64</td>\n",
       "      <td>614121</td>\n",
       "      <td>2018-09-11</td>\n",
       "      <td>completed</td>\n",
       "      <td>Email</td>\n",
       "    </tr>\n",
       "    <tr>\n",
       "      <th>1</th>\n",
       "      <td>66</td>\n",
       "      <td>166558</td>\n",
       "      <td>2017-06-01</td>\n",
       "      <td>completed</td>\n",
       "      <td>Phone</td>\n",
       "    </tr>\n",
       "    <tr>\n",
       "      <th>2</th>\n",
       "      <td>82</td>\n",
       "      <td>166380</td>\n",
       "      <td>2017-06-01</td>\n",
       "      <td>completed</td>\n",
       "      <td>Phone</td>\n",
       "    </tr>\n",
       "    <tr>\n",
       "      <th>3</th>\n",
       "      <td>84</td>\n",
       "      <td>176348</td>\n",
       "      <td>2017-06-15</td>\n",
       "      <td>completed</td>\n",
       "      <td>Email</td>\n",
       "    </tr>\n",
       "    <tr>\n",
       "      <th>4</th>\n",
       "      <td>88</td>\n",
       "      <td>656195</td>\n",
       "      <td>2018-10-03</td>\n",
       "      <td>completed</td>\n",
       "      <td>Email</td>\n",
       "    </tr>\n",
       "    <tr>\n",
       "      <th>...</th>\n",
       "      <td>...</td>\n",
       "      <td>...</td>\n",
       "      <td>...</td>\n",
       "      <td>...</td>\n",
       "      <td>...</td>\n",
       "    </tr>\n",
       "    <tr>\n",
       "      <th>61030</th>\n",
       "      <td>235418</td>\n",
       "      <td>597161</td>\n",
       "      <td>2018-08-31</td>\n",
       "      <td>completed</td>\n",
       "      <td>Email</td>\n",
       "    </tr>\n",
       "    <tr>\n",
       "      <th>61031</th>\n",
       "      <td>235419</td>\n",
       "      <td>626983</td>\n",
       "      <td>2018-09-18</td>\n",
       "      <td>completed</td>\n",
       "      <td>Email</td>\n",
       "    </tr>\n",
       "    <tr>\n",
       "      <th>61032</th>\n",
       "      <td>235422</td>\n",
       "      <td>626792</td>\n",
       "      <td>2018-09-18</td>\n",
       "      <td>completed</td>\n",
       "      <td>Email</td>\n",
       "    </tr>\n",
       "    <tr>\n",
       "      <th>61033</th>\n",
       "      <td>235423</td>\n",
       "      <td>168292</td>\n",
       "      <td>2017-06-05</td>\n",
       "      <td>completed</td>\n",
       "      <td>Email</td>\n",
       "    </tr>\n",
       "    <tr>\n",
       "      <th>61034</th>\n",
       "      <td>235424</td>\n",
       "      <td>444463</td>\n",
       "      <td>2018-05-02</td>\n",
       "      <td>completed</td>\n",
       "      <td>Other</td>\n",
       "    </tr>\n",
       "  </tbody>\n",
       "</table>\n",
       "<p>61035 rows × 5 columns</p>\n",
       "</div>"
      ],
      "text/plain": [
       "       person_id      id touch_scheduled_on     status touch_type\n",
       "0             64  614121         2018-09-11  completed      Email\n",
       "1             66  166558         2017-06-01  completed      Phone\n",
       "2             82  166380         2017-06-01  completed      Phone\n",
       "3             84  176348         2017-06-15  completed      Email\n",
       "4             88  656195         2018-10-03  completed      Email\n",
       "...          ...     ...                ...        ...        ...\n",
       "61030     235418  597161         2018-08-31  completed      Email\n",
       "61031     235419  626983         2018-09-18  completed      Email\n",
       "61032     235422  626792         2018-09-18  completed      Email\n",
       "61033     235423  168292         2017-06-05  completed      Email\n",
       "61034     235424  444463         2018-05-02  completed      Other\n",
       "\n",
       "[61035 rows x 5 columns]"
      ]
     },
     "execution_count": 15,
     "metadata": {},
     "output_type": "execute_result"
    }
   ],
   "source": [
    "touches = touches.sort_values(by='touch_scheduled_on')\n",
    "common_touch_type_person = touches.groupby('person_id').first().reset_index()\n",
    "common_touch_type_person"
   ]
  },
  {
   "cell_type": "code",
   "execution_count": 16,
   "metadata": {},
   "outputs": [
    {
     "data": {
      "text/plain": [
       "Text(0.5, 1.0, 'Top touch_type - Person')"
      ]
     },
     "execution_count": 16,
     "metadata": {},
     "output_type": "execute_result"
    },
    {
     "data": {
      "image/png": "[encoded data removed]",
      "text/plain": [
       "<Figure size 720x360 with 1 Axes>"
      ]
     },
     "metadata": {
      "needs_background": "light"
     },
     "output_type": "display_data"
    }
   ],
   "source": [
    "plt.figure(figsize=(10, 5))\n",
    "common_touch_type_person[\"touch_type\"].value_counts().plot.bar()\n",
    "plt.ylabel(\"Count of touch_type\")\n",
    "plt.xlabel(\"touch_type\")\n",
    "plt.title(\"Top touch_type - Person\")"
   ]
  },
  {
   "cell_type": "code",
   "execution_count": 17,
   "metadata": {},
   "outputs": [
    {
     "data": {
      "text/plain": [
       "Other          31137\n",
       "Email          18173\n",
       "Phone          10979\n",
       "Integration      746\n",
       "Name: touch_type, dtype: int64"
      ]
     },
     "execution_count": 17,
     "metadata": {},
     "output_type": "execute_result"
    }
   ],
   "source": [
    "common_touch_type_person[\"touch_type\"].value_counts()"
   ]
  },
  {
   "cell_type": "code",
   "execution_count": 18,
   "metadata": {},
   "outputs": [
    {
     "data": {
      "text/plain": [
       "Other          51.01\n",
       "Email          29.77\n",
       "Phone          17.99\n",
       "Integration     1.22\n",
       "Name: touch_type, dtype: float64"
      ]
     },
     "execution_count": 18,
     "metadata": {},
     "output_type": "execute_result"
    }
   ],
   "source": [
    "common_touch_type_person[\"touch_type\"].value_counts(normalize=True).mul(100).round(2)"
   ]
  },
  {
   "cell_type": "markdown",
   "metadata": {},
   "source": [
    "### Most common type of touch is `Other` when making their first touch with person."
   ]
  },
  {
   "cell_type": "code",
   "execution_count": 19,
   "metadata": {},
   "outputs": [
    {
     "data": {
      "text/html": [
       "<div>\n",
       "<style scoped>\n",
       "    .dataframe tbody tr th:only-of-type {\n",
       "        vertical-align: middle;\n",
       "    }\n",
       "\n",
       "    .dataframe tbody tr th {\n",
       "        vertical-align: top;\n",
       "    }\n",
       "\n",
       "    .dataframe thead th {\n",
       "        text-align: right;\n",
       "    }\n",
       "</style>\n",
       "<table border=\"1\" class=\"dataframe\">\n",
       "  <thead>\n",
       "    <tr style=\"text-align: right;\">\n",
       "      <th></th>\n",
       "      <th>company_id</th>\n",
       "      <th>id_x</th>\n",
       "      <th>person_id</th>\n",
       "      <th>touch_scheduled_on</th>\n",
       "      <th>status</th>\n",
       "      <th>touch_type</th>\n",
       "      <th>job_seniority</th>\n",
       "      <th>id_y</th>\n",
       "      <th>industry</th>\n",
       "      <th>size</th>\n",
       "      <th>location</th>\n",
       "      <th>id</th>\n",
       "      <th>created_at</th>\n",
       "      <th>latest_stage</th>\n",
       "    </tr>\n",
       "  </thead>\n",
       "  <tbody>\n",
       "    <tr>\n",
       "      <th>0</th>\n",
       "      <td>0</td>\n",
       "      <td>166657</td>\n",
       "      <td>92895</td>\n",
       "      <td>2017-06-01</td>\n",
       "      <td>completed</td>\n",
       "      <td>Phone</td>\n",
       "      <td>None</td>\n",
       "      <td>NaN</td>\n",
       "      <td>None</td>\n",
       "      <td>None</td>\n",
       "      <td>None</td>\n",
       "      <td>NaN</td>\n",
       "      <td>None</td>\n",
       "      <td>None</td>\n",
       "    </tr>\n",
       "    <tr>\n",
       "      <th>1</th>\n",
       "      <td>5886</td>\n",
       "      <td>166121</td>\n",
       "      <td>87516</td>\n",
       "      <td>2017-06-01</td>\n",
       "      <td>completed</td>\n",
       "      <td>Phone</td>\n",
       "      <td>Director</td>\n",
       "      <td>5886.0</td>\n",
       "      <td></td>\n",
       "      <td></td>\n",
       "      <td></td>\n",
       "      <td>1261.0</td>\n",
       "      <td>2018-02-07 15:54:32.581178</td>\n",
       "      <td>Closed Lost</td>\n",
       "    </tr>\n",
       "    <tr>\n",
       "      <th>2</th>\n",
       "      <td>5889</td>\n",
       "      <td>166218</td>\n",
       "      <td>89146</td>\n",
       "      <td>2017-06-01</td>\n",
       "      <td>completed</td>\n",
       "      <td>Phone</td>\n",
       "      <td>Individual Contributor</td>\n",
       "      <td>5889.0</td>\n",
       "      <td>Software</td>\n",
       "      <td></td>\n",
       "      <td>US/Central</td>\n",
       "      <td>7199.0</td>\n",
       "      <td>2018-09-13 14:19:40.436850</td>\n",
       "      <td>Discovery</td>\n",
       "    </tr>\n",
       "    <tr>\n",
       "      <th>3</th>\n",
       "      <td>5890</td>\n",
       "      <td>166322</td>\n",
       "      <td>135460</td>\n",
       "      <td>2017-06-01</td>\n",
       "      <td>completed</td>\n",
       "      <td>Email</td>\n",
       "      <td>Director</td>\n",
       "      <td>5890.0</td>\n",
       "      <td>Diversified Telecommunication Services</td>\n",
       "      <td></td>\n",
       "      <td>US/Pacific</td>\n",
       "      <td>3585.0</td>\n",
       "      <td>2018-03-09 22:37:36.231851</td>\n",
       "      <td>Closed Lost</td>\n",
       "    </tr>\n",
       "    <tr>\n",
       "      <th>4</th>\n",
       "      <td>5891</td>\n",
       "      <td>166337</td>\n",
       "      <td>34906</td>\n",
       "      <td>2017-06-01</td>\n",
       "      <td>completed</td>\n",
       "      <td>Phone</td>\n",
       "      <td>Unknown</td>\n",
       "      <td>5891.0</td>\n",
       "      <td>Internet Software &amp; Services</td>\n",
       "      <td></td>\n",
       "      <td>US/Pacific</td>\n",
       "      <td>3174.0</td>\n",
       "      <td>2018-02-13 19:56:41.858390</td>\n",
       "      <td>Closed Lost</td>\n",
       "    </tr>\n",
       "    <tr>\n",
       "      <th>...</th>\n",
       "      <td>...</td>\n",
       "      <td>...</td>\n",
       "      <td>...</td>\n",
       "      <td>...</td>\n",
       "      <td>...</td>\n",
       "      <td>...</td>\n",
       "      <td>...</td>\n",
       "      <td>...</td>\n",
       "      <td>...</td>\n",
       "      <td>...</td>\n",
       "      <td>...</td>\n",
       "      <td>...</td>\n",
       "      <td>...</td>\n",
       "      <td>...</td>\n",
       "    </tr>\n",
       "    <tr>\n",
       "      <th>7055</th>\n",
       "      <td>14859</td>\n",
       "      <td>229485</td>\n",
       "      <td>155765</td>\n",
       "      <td>2017-09-14</td>\n",
       "      <td>completed</td>\n",
       "      <td>Other</td>\n",
       "      <td>Executive</td>\n",
       "      <td>14859.0</td>\n",
       "      <td>Internet</td>\n",
       "      <td></td>\n",
       "      <td>US/Eastern</td>\n",
       "      <td>NaN</td>\n",
       "      <td>None</td>\n",
       "      <td>None</td>\n",
       "    </tr>\n",
       "    <tr>\n",
       "      <th>7056</th>\n",
       "      <td>14860</td>\n",
       "      <td>200257</td>\n",
       "      <td>51679</td>\n",
       "      <td>2017-07-27</td>\n",
       "      <td>completed</td>\n",
       "      <td>Other</td>\n",
       "      <td>Manager</td>\n",
       "      <td>14860.0</td>\n",
       "      <td>Internet Software &amp; Services</td>\n",
       "      <td>51-200 employees</td>\n",
       "      <td>US/Pacific</td>\n",
       "      <td>NaN</td>\n",
       "      <td>None</td>\n",
       "      <td>None</td>\n",
       "    </tr>\n",
       "    <tr>\n",
       "      <th>7057</th>\n",
       "      <td>14862</td>\n",
       "      <td>168208</td>\n",
       "      <td>123905</td>\n",
       "      <td>2017-06-05</td>\n",
       "      <td>completed</td>\n",
       "      <td>Email</td>\n",
       "      <td>Unknown</td>\n",
       "      <td>14862.0</td>\n",
       "      <td>Technology Hardware, Storage &amp; Peripherals</td>\n",
       "      <td>10,001+ employees</td>\n",
       "      <td>US/Pacific</td>\n",
       "      <td>NaN</td>\n",
       "      <td>None</td>\n",
       "      <td>None</td>\n",
       "    </tr>\n",
       "    <tr>\n",
       "      <th>7058</th>\n",
       "      <td>14864</td>\n",
       "      <td>178425</td>\n",
       "      <td>22793</td>\n",
       "      <td>2017-06-20</td>\n",
       "      <td>completed</td>\n",
       "      <td>Other</td>\n",
       "      <td>Director</td>\n",
       "      <td>14864.0</td>\n",
       "      <td>Insurance</td>\n",
       "      <td></td>\n",
       "      <td>US/Pacific</td>\n",
       "      <td>NaN</td>\n",
       "      <td>None</td>\n",
       "      <td>None</td>\n",
       "    </tr>\n",
       "    <tr>\n",
       "      <th>7059</th>\n",
       "      <td>14865</td>\n",
       "      <td>173214</td>\n",
       "      <td>12506</td>\n",
       "      <td>2017-06-12</td>\n",
       "      <td>completed</td>\n",
       "      <td>Other</td>\n",
       "      <td>Vice President</td>\n",
       "      <td>14865.0</td>\n",
       "      <td>Media</td>\n",
       "      <td></td>\n",
       "      <td>US/Pacific</td>\n",
       "      <td>NaN</td>\n",
       "      <td>None</td>\n",
       "      <td>None</td>\n",
       "    </tr>\n",
       "  </tbody>\n",
       "</table>\n",
       "<p>7060 rows × 14 columns</p>\n",
       "</div>"
      ],
      "text/plain": [
       "      company_id    id_x  person_id touch_scheduled_on     status touch_type  \\\n",
       "0              0  166657      92895         2017-06-01  completed      Phone   \n",
       "1           5886  166121      87516         2017-06-01  completed      Phone   \n",
       "2           5889  166218      89146         2017-06-01  completed      Phone   \n",
       "3           5890  166322     135460         2017-06-01  completed      Email   \n",
       "4           5891  166337      34906         2017-06-01  completed      Phone   \n",
       "...          ...     ...        ...                ...        ...        ...   \n",
       "7055       14859  229485     155765         2017-09-14  completed      Other   \n",
       "7056       14860  200257      51679         2017-07-27  completed      Other   \n",
       "7057       14862  168208     123905         2017-06-05  completed      Email   \n",
       "7058       14864  178425      22793         2017-06-20  completed      Other   \n",
       "7059       14865  173214      12506         2017-06-12  completed      Other   \n",
       "\n",
       "               job_seniority     id_y  \\\n",
       "0                       None      NaN   \n",
       "1                   Director   5886.0   \n",
       "2     Individual Contributor   5889.0   \n",
       "3                   Director   5890.0   \n",
       "4                    Unknown   5891.0   \n",
       "...                      ...      ...   \n",
       "7055               Executive  14859.0   \n",
       "7056                 Manager  14860.0   \n",
       "7057                 Unknown  14862.0   \n",
       "7058                Director  14864.0   \n",
       "7059          Vice President  14865.0   \n",
       "\n",
       "                                        industry               size  \\\n",
       "0                                           None               None   \n",
       "1                                                                     \n",
       "2                                       Software                      \n",
       "3         Diversified Telecommunication Services                      \n",
       "4                   Internet Software & Services                      \n",
       "...                                          ...                ...   \n",
       "7055                                    Internet                      \n",
       "7056                Internet Software & Services   51-200 employees   \n",
       "7057  Technology Hardware, Storage & Peripherals  10,001+ employees   \n",
       "7058                                   Insurance                      \n",
       "7059                                       Media                      \n",
       "\n",
       "        location      id                  created_at latest_stage  \n",
       "0           None     NaN                        None         None  \n",
       "1                 1261.0  2018-02-07 15:54:32.581178  Closed Lost  \n",
       "2     US/Central  7199.0  2018-09-13 14:19:40.436850    Discovery  \n",
       "3     US/Pacific  3585.0  2018-03-09 22:37:36.231851  Closed Lost  \n",
       "4     US/Pacific  3174.0  2018-02-13 19:56:41.858390  Closed Lost  \n",
       "...          ...     ...                         ...          ...  \n",
       "7055  US/Eastern     NaN                        None         None  \n",
       "7056  US/Pacific     NaN                        None         None  \n",
       "7057  US/Pacific     NaN                        None         None  \n",
       "7058  US/Pacific     NaN                        None         None  \n",
       "7059  US/Pacific     NaN                        None         None  \n",
       "\n",
       "[7060 rows x 14 columns]"
      ]
     },
     "execution_count": 19,
     "metadata": {},
     "output_type": "execute_result"
    }
   ],
   "source": [
    "dataset = dataset.sort_values(by='touch_scheduled_on')\n",
    "common_touch_type_companies = dataset.groupby('company_id').first().reset_index()\n",
    "common_touch_type_companies"
   ]
  },
  {
   "cell_type": "code",
   "execution_count": 20,
   "metadata": {},
   "outputs": [
    {
     "data": {
      "text/plain": [
       "Text(0.5, 1.0, 'Top touch_type - Company')"
      ]
     },
     "execution_count": 20,
     "metadata": {},
     "output_type": "execute_result"
    },
    {
     "data": {
      "image/png": "[encoded data removed]",
      "text/plain": [
       "<Figure size 720x360 with 1 Axes>"
      ]
     },
     "metadata": {
      "needs_background": "light"
     },
     "output_type": "display_data"
    }
   ],
   "source": [
    "plt.figure(figsize=(10, 5))\n",
    "common_touch_type_companies[\"touch_type\"].value_counts().head(20).plot.bar()\n",
    "plt.ylabel(\"Count of touch_type\")\n",
    "plt.xlabel(\"touch_type\")\n",
    "plt.title(\"Top touch_type - Company\")"
   ]
  },
  {
   "cell_type": "code",
   "execution_count": 21,
   "metadata": {},
   "outputs": [
    {
     "data": {
      "text/plain": [
       "Email    2854\n",
       "Phone    2741\n",
       "Other    1465\n",
       "Name: touch_type, dtype: int64"
      ]
     },
     "execution_count": 21,
     "metadata": {},
     "output_type": "execute_result"
    }
   ],
   "source": [
    "common_touch_type_companies[\"touch_type\"].value_counts()"
   ]
  },
  {
   "cell_type": "code",
   "execution_count": 22,
   "metadata": {},
   "outputs": [
    {
     "data": {
      "text/plain": [
       "Email    40.42\n",
       "Phone    38.82\n",
       "Other    20.75\n",
       "Name: touch_type, dtype: float64"
      ]
     },
     "execution_count": 22,
     "metadata": {},
     "output_type": "execute_result"
    }
   ],
   "source": [
    "common_touch_type_companies[\"touch_type\"].value_counts(normalize=True).mul(100).round(2)"
   ]
  },
  {
   "cell_type": "markdown",
   "metadata": {},
   "source": [
    "### Most common type of touch is `Email` when making their first touch with company."
   ]
  },
  {
   "cell_type": "markdown",
   "metadata": {},
   "source": [
    "### Question 3. Describe the distribution of the job seniorities of people that a seller will first try to contact within a company.\n",
    "\n",
    "To answer this question, you may use visuals, graphs, bunch of scores, tables, writeups - whatever you want. We literally want you to \"describe\" the distribution to us in the best way you can!\n",
    "\n",
    "(Note: this question doesn't really have one right answer. It's more about your style of communicating the results.)\n",
    "\n",
    "\n",
    "### Solution\n",
    "\n",
    "I have used `pandas groupby` to find the first ever contact with a company. So for example agent have contacted company first time with director, then with president. Similarly another company have first contact with manager and then second with director. According to the requirements in question, i have extracted the first contact only. Then I have bar plot of job seniorities, this will give us the distribution."
   ]
  },
  {
   "cell_type": "code",
   "execution_count": 23,
   "metadata": {},
   "outputs": [
    {
     "data": {
      "text/plain": [
       "Text(0.5, 1.0, 'Top job_seniority - Company')"
      ]
     },
     "execution_count": 23,
     "metadata": {},
     "output_type": "execute_result"
    },
    {
     "data": {
      "image/png": "[encoded data removed]",
      "text/plain": [
       "<Figure size 720x360 with 1 Axes>"
      ]
     },
     "metadata": {
      "needs_background": "light"
     },
     "output_type": "display_data"
    }
   ],
   "source": [
    "plt.figure(figsize=(10, 5))\n",
    "common_touch_type_companies[\"job_seniority\"].value_counts().head(20).plot.bar()\n",
    "plt.ylabel(\"Count of job_seniority\")\n",
    "plt.xlabel(\"job_seniority\")\n",
    "plt.title(\"Top job_seniority - Company\")"
   ]
  },
  {
   "cell_type": "code",
   "execution_count": 24,
   "metadata": {},
   "outputs": [
    {
     "data": {
      "text/plain": [
       "Director                  1825\n",
       "Vice President            1614\n",
       "Manager                   1256\n",
       "Executive                  954\n",
       "Individual Contributor     817\n",
       "Unknown                    593\n",
       "Name: job_seniority, dtype: int64"
      ]
     },
     "execution_count": 24,
     "metadata": {},
     "output_type": "execute_result"
    }
   ],
   "source": [
    "common_touch_type_companies[\"job_seniority\"].value_counts()"
   ]
  },
  {
   "cell_type": "code",
   "execution_count": 25,
   "metadata": {},
   "outputs": [
    {
     "data": {
      "text/plain": [
       "Director                  25.85\n",
       "Vice President            22.86\n",
       "Manager                   17.79\n",
       "Executive                 13.51\n",
       "Individual Contributor    11.57\n",
       "Unknown                    8.40\n",
       "Name: job_seniority, dtype: float64"
      ]
     },
     "execution_count": 25,
     "metadata": {},
     "output_type": "execute_result"
    }
   ],
   "source": [
    "common_touch_type_companies[\"job_seniority\"].value_counts(normalize=True).mul(100).round(2)"
   ]
  },
  {
   "cell_type": "markdown",
   "metadata": {},
   "source": [
    "### Comments\n",
    "\n",
    "As we have combine dataset (consist all information). Mostly people contact `Directors` as first contact with company. Then `Vice President` and so on. "
   ]
  },
  {
   "cell_type": "markdown",
   "metadata": {},
   "source": [
    "### Question 4. Describe the distribution of the mixture of job seniorities of people that a seller will touch during the entire engagement with a company.\n",
    "Keep in mind that you get to decide what “mixture” means, so do begin your answer by defining it - and explaining why you think this definition makes sense. Again, feel free to use whatever visuals, graphs, bunch of scores, tables, writeups etc. that you think is appropriate for this question.\n",
    "\n",
    "(Note: this question doesn't really have one right answer. It's more about your style of communicating the results.)"
   ]
  },
  {
   "cell_type": "markdown",
   "metadata": {},
   "source": [
    "### Mixture\n",
    "\n",
    "Mixture in this is the different people called using different types during entire journey as per my understanding. Different types of scenerios can be covered. "
   ]
  },
  {
   "cell_type": "code",
   "execution_count": 26,
   "metadata": {},
   "outputs": [
    {
     "data": {
      "text/plain": [
       "<AxesSubplot:xlabel='latest_stage', ylabel='count'>"
      ]
     },
     "execution_count": 26,
     "metadata": {},
     "output_type": "execute_result"
    },
    {
     "data": {
      "image/png": "[encoded data removed]",
      "text/plain": [
       "<Figure size 1080x504 with 1 Axes>"
      ]
     },
     "metadata": {
      "needs_background": "light"
     },
     "output_type": "display_data"
    }
   ],
   "source": [
    "import seaborn as sns\n",
    "plt.figure(figsize=(15, 7))\n",
    "sns.countplot(x='latest_stage', hue='job_seniority', data=dataset)"
   ]
  },
  {
   "cell_type": "markdown",
   "metadata": {},
   "source": [
    "### Comments on above Graph\n",
    "\n",
    "You can see that whenever agent contact higher designations (senior people) of the companies, there is highest chance of contract to be lost. In order to won contract, its better to start negotiation with juniors of the company and then slowly approaching seniors in successive contacts. "
   ]
  },
  {
   "cell_type": "code",
   "execution_count": 27,
   "metadata": {},
   "outputs": [
    {
     "data": {
      "text/plain": [
       "<AxesSubplot:xlabel='latest_stage', ylabel='count'>"
      ]
     },
     "execution_count": 27,
     "metadata": {},
     "output_type": "execute_result"
    },
    {
     "data": {
      "image/png": "[encoded data removed]",
      "text/plain": [
       "<Figure size 1080x504 with 1 Axes>"
      ]
     },
     "metadata": {
      "needs_background": "light"
     },
     "output_type": "display_data"
    }
   ],
   "source": [
    "plt.figure(figsize=(15, 7))\n",
    "sns.countplot(x='latest_stage', hue='touch_type', data=dataset)"
   ]
  },
  {
   "cell_type": "code",
   "execution_count": 28,
   "metadata": {},
   "outputs": [
    {
     "data": {
      "text/plain": [
       "<AxesSubplot:xlabel='latest_stage', ylabel='count'>"
      ]
     },
     "execution_count": 28,
     "metadata": {},
     "output_type": "execute_result"
    },
    {
     "data": {
      "image/png": "[encoded data removed]",
      "text/plain": [
       "<Figure size 1440x720 with 1 Axes>"
      ]
     },
     "metadata": {
      "needs_background": "light"
     },
     "output_type": "display_data"
    }
   ],
   "source": [
    "plt.figure(figsize=(20, 10))\n",
    "sns.countplot(x='latest_stage', hue='location', data=dataset)"
   ]
  },
  {
   "cell_type": "code",
   "execution_count": 29,
   "metadata": {},
   "outputs": [
    {
     "data": {
      "text/plain": [
       "<AxesSubplot:xlabel='Month', ylabel='count'>"
      ]
     },
     "execution_count": 29,
     "metadata": {},
     "output_type": "execute_result"
    },
    {
     "data": {
      "image/png": "[encoded data removed]",
      "text/plain": [
       "<Figure size 1440x576 with 1 Axes>"
      ]
     },
     "metadata": {
      "needs_background": "light"
     },
     "output_type": "display_data"
    }
   ],
   "source": [
    "dataset['touch_scheduled_on'] = pd.to_datetime(dataset['touch_scheduled_on'])\n",
    "dataset['Month'] = dataset['touch_scheduled_on'].dt.month_name()\n",
    "plt.figure(figsize=(20, 8))\n",
    "sns.countplot(x='Month', hue='latest_stage', data=dataset)"
   ]
  },
  {
   "cell_type": "code",
   "execution_count": 30,
   "metadata": {},
   "outputs": [
    {
     "data": {
      "text/plain": [
       "<AxesSubplot:xlabel='day', ylabel='count'>"
      ]
     },
     "execution_count": 30,
     "metadata": {},
     "output_type": "execute_result"
    },
    {
     "data": {
      "image/png": "[encoded data removed]",
      "text/plain": [
       "<Figure size 1440x576 with 1 Axes>"
      ]
     },
     "metadata": {
      "needs_background": "light"
     },
     "output_type": "display_data"
    }
   ],
   "source": [
    "dataset['touch_scheduled_on'] = pd.to_datetime(dataset['touch_scheduled_on'])\n",
    "dataset['day'] = dataset['touch_scheduled_on'].dt.day_name()\n",
    "plt.figure(figsize=(20, 8))\n",
    "sns.countplot(x='day', hue='latest_stage', data=dataset)"
   ]
  },
  {
   "cell_type": "markdown",
   "metadata": {},
   "source": [
    "### Comments\n",
    "\n",
    "There is high chance of winning contract when agent call/ touch people of companies on `Monday`, `Tuesday` or `Friday`. On other days due to busy schedule, chance of losing contracts increases."
   ]
  },
  {
   "cell_type": "markdown",
   "metadata": {},
   "source": [
    "### Question 5. Build an algorithm that, when a seller is about to contact a company it never reached out to before, recommends the best/optimal mixture of job seniorities (with “mixture” as defined by you in Question 4.) they should be targeting within that company during the entire engagement.\n",
    "\n",
    "This is the hardest question in this exercise. If you feel you have a good idea what the algorithm should look like but either feel uncomfortable coding-wise or feel pressed for time, it is perfectly OK to describe your idea in words. Be clear, explain both what it does and why you think this is the right approach.\n",
    "\n",
    "Whether or not you go the code-route or writeup-route, be sure to explain the assumptions and choices you made, why you made them and how you would test them.\n",
    "\n",
    "(Note: like with the previous two questions, this question doesn't really have one right answer either!)"
   ]
  },
  {
   "cell_type": "code",
   "execution_count": 31,
   "metadata": {},
   "outputs": [
    {
     "data": {
      "text/html": [
       "<div>\n",
       "<style scoped>\n",
       "    .dataframe tbody tr th:only-of-type {\n",
       "        vertical-align: middle;\n",
       "    }\n",
       "\n",
       "    .dataframe tbody tr th {\n",
       "        vertical-align: top;\n",
       "    }\n",
       "\n",
       "    .dataframe thead th {\n",
       "        text-align: right;\n",
       "    }\n",
       "</style>\n",
       "<table border=\"1\" class=\"dataframe\">\n",
       "  <thead>\n",
       "    <tr style=\"text-align: right;\">\n",
       "      <th></th>\n",
       "      <th>id_x</th>\n",
       "      <th>person_id</th>\n",
       "      <th>touch_scheduled_on</th>\n",
       "      <th>status</th>\n",
       "      <th>touch_type</th>\n",
       "      <th>company_id</th>\n",
       "      <th>job_seniority</th>\n",
       "      <th>id_y</th>\n",
       "      <th>industry</th>\n",
       "      <th>size</th>\n",
       "      <th>location</th>\n",
       "      <th>id</th>\n",
       "      <th>created_at</th>\n",
       "      <th>latest_stage</th>\n",
       "      <th>Month</th>\n",
       "      <th>day</th>\n",
       "    </tr>\n",
       "  </thead>\n",
       "  <tbody>\n",
       "    <tr>\n",
       "      <th>425</th>\n",
       "      <td>166683</td>\n",
       "      <td>76349</td>\n",
       "      <td>2017-06-01</td>\n",
       "      <td>completed</td>\n",
       "      <td>Phone</td>\n",
       "      <td>5906</td>\n",
       "      <td>Director</td>\n",
       "      <td>5906.0</td>\n",
       "      <td>Internet Software &amp; Services</td>\n",
       "      <td>25-50</td>\n",
       "      <td>Europe/London</td>\n",
       "      <td>7770.0</td>\n",
       "      <td>2018-10-30 18:15:02.584597</td>\n",
       "      <td>Closed Lost</td>\n",
       "      <td>June</td>\n",
       "      <td>Thursday</td>\n",
       "    </tr>\n",
       "    <tr>\n",
       "      <th>426</th>\n",
       "      <td>166684</td>\n",
       "      <td>148739</td>\n",
       "      <td>2017-06-01</td>\n",
       "      <td>completed</td>\n",
       "      <td>Phone</td>\n",
       "      <td>5906</td>\n",
       "      <td>Vice President</td>\n",
       "      <td>5906.0</td>\n",
       "      <td>Internet Software &amp; Services</td>\n",
       "      <td>25-50</td>\n",
       "      <td>Europe/London</td>\n",
       "      <td>7770.0</td>\n",
       "      <td>2018-10-30 18:15:02.584597</td>\n",
       "      <td>Closed Lost</td>\n",
       "      <td>June</td>\n",
       "      <td>Thursday</td>\n",
       "    </tr>\n",
       "    <tr>\n",
       "      <th>424</th>\n",
       "      <td>166682</td>\n",
       "      <td>102048</td>\n",
       "      <td>2017-06-01</td>\n",
       "      <td>completed</td>\n",
       "      <td>Phone</td>\n",
       "      <td>5906</td>\n",
       "      <td>Director</td>\n",
       "      <td>5906.0</td>\n",
       "      <td>Internet Software &amp; Services</td>\n",
       "      <td>25-50</td>\n",
       "      <td>Europe/London</td>\n",
       "      <td>7770.0</td>\n",
       "      <td>2018-10-30 18:15:02.584597</td>\n",
       "      <td>Closed Lost</td>\n",
       "      <td>June</td>\n",
       "      <td>Thursday</td>\n",
       "    </tr>\n",
       "    <tr>\n",
       "      <th>423</th>\n",
       "      <td>166680</td>\n",
       "      <td>3006</td>\n",
       "      <td>2017-06-01</td>\n",
       "      <td>completed</td>\n",
       "      <td>Email</td>\n",
       "      <td>5906</td>\n",
       "      <td>Unknown</td>\n",
       "      <td>5906.0</td>\n",
       "      <td>Internet Software &amp; Services</td>\n",
       "      <td>25-50</td>\n",
       "      <td>Europe/London</td>\n",
       "      <td>7770.0</td>\n",
       "      <td>2018-10-30 18:15:02.584597</td>\n",
       "      <td>Closed Lost</td>\n",
       "      <td>June</td>\n",
       "      <td>Thursday</td>\n",
       "    </tr>\n",
       "    <tr>\n",
       "      <th>421</th>\n",
       "      <td>166677</td>\n",
       "      <td>148112</td>\n",
       "      <td>2017-06-01</td>\n",
       "      <td>completed</td>\n",
       "      <td>Phone</td>\n",
       "      <td>5906</td>\n",
       "      <td>Manager</td>\n",
       "      <td>5906.0</td>\n",
       "      <td>Internet Software &amp; Services</td>\n",
       "      <td>25-50</td>\n",
       "      <td>Europe/London</td>\n",
       "      <td>7770.0</td>\n",
       "      <td>2018-10-30 18:15:02.584597</td>\n",
       "      <td>Closed Lost</td>\n",
       "      <td>June</td>\n",
       "      <td>Thursday</td>\n",
       "    </tr>\n",
       "    <tr>\n",
       "      <th>...</th>\n",
       "      <td>...</td>\n",
       "      <td>...</td>\n",
       "      <td>...</td>\n",
       "      <td>...</td>\n",
       "      <td>...</td>\n",
       "      <td>...</td>\n",
       "      <td>...</td>\n",
       "      <td>...</td>\n",
       "      <td>...</td>\n",
       "      <td>...</td>\n",
       "      <td>...</td>\n",
       "      <td>...</td>\n",
       "      <td>...</td>\n",
       "      <td>...</td>\n",
       "      <td>...</td>\n",
       "      <td>...</td>\n",
       "    </tr>\n",
       "    <tr>\n",
       "      <th>48029</th>\n",
       "      <td>235318</td>\n",
       "      <td>159021</td>\n",
       "      <td>2017-09-25</td>\n",
       "      <td>completed</td>\n",
       "      <td>Email</td>\n",
       "      <td>8302</td>\n",
       "      <td>Unknown</td>\n",
       "      <td>8302.0</td>\n",
       "      <td>Software Development &amp; Design</td>\n",
       "      <td></td>\n",
       "      <td>US/Eastern</td>\n",
       "      <td>8292.0</td>\n",
       "      <td>2018-12-18 19:37:45.473243</td>\n",
       "      <td>Disqualified</td>\n",
       "      <td>September</td>\n",
       "      <td>Monday</td>\n",
       "    </tr>\n",
       "    <tr>\n",
       "      <th>48031</th>\n",
       "      <td>235321</td>\n",
       "      <td>88574</td>\n",
       "      <td>2017-09-25</td>\n",
       "      <td>completed</td>\n",
       "      <td>Email</td>\n",
       "      <td>8302</td>\n",
       "      <td>Executive</td>\n",
       "      <td>8302.0</td>\n",
       "      <td>Software Development &amp; Design</td>\n",
       "      <td></td>\n",
       "      <td>US/Eastern</td>\n",
       "      <td>8292.0</td>\n",
       "      <td>2018-12-18 19:37:45.473243</td>\n",
       "      <td>Disqualified</td>\n",
       "      <td>September</td>\n",
       "      <td>Monday</td>\n",
       "    </tr>\n",
       "    <tr>\n",
       "      <th>48032</th>\n",
       "      <td>235323</td>\n",
       "      <td>121900</td>\n",
       "      <td>2017-09-25</td>\n",
       "      <td>completed</td>\n",
       "      <td>Phone</td>\n",
       "      <td>8302</td>\n",
       "      <td>Director</td>\n",
       "      <td>8302.0</td>\n",
       "      <td>Software Development &amp; Design</td>\n",
       "      <td></td>\n",
       "      <td>US/Eastern</td>\n",
       "      <td>8292.0</td>\n",
       "      <td>2018-12-18 19:37:45.473243</td>\n",
       "      <td>Disqualified</td>\n",
       "      <td>September</td>\n",
       "      <td>Monday</td>\n",
       "    </tr>\n",
       "    <tr>\n",
       "      <th>48033</th>\n",
       "      <td>235324</td>\n",
       "      <td>70828</td>\n",
       "      <td>2017-09-25</td>\n",
       "      <td>completed</td>\n",
       "      <td>Other</td>\n",
       "      <td>8302</td>\n",
       "      <td>Director</td>\n",
       "      <td>8302.0</td>\n",
       "      <td>Software Development &amp; Design</td>\n",
       "      <td></td>\n",
       "      <td>US/Eastern</td>\n",
       "      <td>8292.0</td>\n",
       "      <td>2018-12-18 19:37:45.473243</td>\n",
       "      <td>Disqualified</td>\n",
       "      <td>September</td>\n",
       "      <td>Monday</td>\n",
       "    </tr>\n",
       "    <tr>\n",
       "      <th>48030</th>\n",
       "      <td>235320</td>\n",
       "      <td>56350</td>\n",
       "      <td>2017-09-25</td>\n",
       "      <td>completed</td>\n",
       "      <td>Email</td>\n",
       "      <td>8302</td>\n",
       "      <td>Individual Contributor</td>\n",
       "      <td>8302.0</td>\n",
       "      <td>Software Development &amp; Design</td>\n",
       "      <td></td>\n",
       "      <td>US/Eastern</td>\n",
       "      <td>8292.0</td>\n",
       "      <td>2018-12-18 19:37:45.473243</td>\n",
       "      <td>Disqualified</td>\n",
       "      <td>September</td>\n",
       "      <td>Monday</td>\n",
       "    </tr>\n",
       "  </tbody>\n",
       "</table>\n",
       "<p>13245 rows × 16 columns</p>\n",
       "</div>"
      ],
      "text/plain": [
       "         id_x  person_id touch_scheduled_on     status touch_type  company_id  \\\n",
       "425    166683      76349         2017-06-01  completed      Phone        5906   \n",
       "426    166684     148739         2017-06-01  completed      Phone        5906   \n",
       "424    166682     102048         2017-06-01  completed      Phone        5906   \n",
       "423    166680       3006         2017-06-01  completed      Email        5906   \n",
       "421    166677     148112         2017-06-01  completed      Phone        5906   \n",
       "...       ...        ...                ...        ...        ...         ...   \n",
       "48029  235318     159021         2017-09-25  completed      Email        8302   \n",
       "48031  235321      88574         2017-09-25  completed      Email        8302   \n",
       "48032  235323     121900         2017-09-25  completed      Phone        8302   \n",
       "48033  235324      70828         2017-09-25  completed      Other        8302   \n",
       "48030  235320      56350         2017-09-25  completed      Email        8302   \n",
       "\n",
       "                job_seniority    id_y                       industry   size  \\\n",
       "425                  Director  5906.0   Internet Software & Services  25-50   \n",
       "426            Vice President  5906.0   Internet Software & Services  25-50   \n",
       "424                  Director  5906.0   Internet Software & Services  25-50   \n",
       "423                   Unknown  5906.0   Internet Software & Services  25-50   \n",
       "421                   Manager  5906.0   Internet Software & Services  25-50   \n",
       "...                       ...     ...                            ...    ...   \n",
       "48029                 Unknown  8302.0  Software Development & Design          \n",
       "48031               Executive  8302.0  Software Development & Design          \n",
       "48032                Director  8302.0  Software Development & Design          \n",
       "48033                Director  8302.0  Software Development & Design          \n",
       "48030  Individual Contributor  8302.0  Software Development & Design          \n",
       "\n",
       "            location      id                  created_at  latest_stage  \\\n",
       "425    Europe/London  7770.0  2018-10-30 18:15:02.584597   Closed Lost   \n",
       "426    Europe/London  7770.0  2018-10-30 18:15:02.584597   Closed Lost   \n",
       "424    Europe/London  7770.0  2018-10-30 18:15:02.584597   Closed Lost   \n",
       "423    Europe/London  7770.0  2018-10-30 18:15:02.584597   Closed Lost   \n",
       "421    Europe/London  7770.0  2018-10-30 18:15:02.584597   Closed Lost   \n",
       "...              ...     ...                         ...           ...   \n",
       "48029     US/Eastern  8292.0  2018-12-18 19:37:45.473243  Disqualified   \n",
       "48031     US/Eastern  8292.0  2018-12-18 19:37:45.473243  Disqualified   \n",
       "48032     US/Eastern  8292.0  2018-12-18 19:37:45.473243  Disqualified   \n",
       "48033     US/Eastern  8292.0  2018-12-18 19:37:45.473243  Disqualified   \n",
       "48030     US/Eastern  8292.0  2018-12-18 19:37:45.473243  Disqualified   \n",
       "\n",
       "           Month       day  \n",
       "425         June  Thursday  \n",
       "426         June  Thursday  \n",
       "424         June  Thursday  \n",
       "423         June  Thursday  \n",
       "421         June  Thursday  \n",
       "...          ...       ...  \n",
       "48029  September    Monday  \n",
       "48031  September    Monday  \n",
       "48032  September    Monday  \n",
       "48033  September    Monday  \n",
       "48030  September    Monday  \n",
       "\n",
       "[13245 rows x 16 columns]"
      ]
     },
     "execution_count": 31,
     "metadata": {},
     "output_type": "execute_result"
    }
   ],
   "source": [
    "data_for_algo = dataset[~dataset['latest_stage'].isna()]\n",
    "data_for_algo = data_for_algo[data_for_algo['latest_stage'].isin(['Closed Won', 'Closed Lost', 'Disqualified'])]\n",
    "data_for_algo"
   ]
  },
  {
   "cell_type": "code",
   "execution_count": 32,
   "metadata": {},
   "outputs": [
    {
     "data": {
      "text/html": [
       "<div>\n",
       "<style scoped>\n",
       "    .dataframe tbody tr th:only-of-type {\n",
       "        vertical-align: middle;\n",
       "    }\n",
       "\n",
       "    .dataframe tbody tr th {\n",
       "        vertical-align: top;\n",
       "    }\n",
       "\n",
       "    .dataframe thead th {\n",
       "        text-align: right;\n",
       "    }\n",
       "</style>\n",
       "<table border=\"1\" class=\"dataframe\">\n",
       "  <thead>\n",
       "    <tr style=\"text-align: right;\">\n",
       "      <th></th>\n",
       "      <th>touch_type</th>\n",
       "      <th>job_seniority</th>\n",
       "      <th>industry</th>\n",
       "      <th>size</th>\n",
       "      <th>location</th>\n",
       "      <th>day</th>\n",
       "      <th>latest_stage</th>\n",
       "    </tr>\n",
       "  </thead>\n",
       "  <tbody>\n",
       "    <tr>\n",
       "      <th>425</th>\n",
       "      <td>Phone</td>\n",
       "      <td>Director</td>\n",
       "      <td>Internet Software &amp; Services</td>\n",
       "      <td>25-50</td>\n",
       "      <td>Europe/London</td>\n",
       "      <td>Thursday</td>\n",
       "      <td>Closed Lost</td>\n",
       "    </tr>\n",
       "    <tr>\n",
       "      <th>426</th>\n",
       "      <td>Phone</td>\n",
       "      <td>Vice President</td>\n",
       "      <td>Internet Software &amp; Services</td>\n",
       "      <td>25-50</td>\n",
       "      <td>Europe/London</td>\n",
       "      <td>Thursday</td>\n",
       "      <td>Closed Lost</td>\n",
       "    </tr>\n",
       "    <tr>\n",
       "      <th>423</th>\n",
       "      <td>Email</td>\n",
       "      <td>Unknown</td>\n",
       "      <td>Internet Software &amp; Services</td>\n",
       "      <td>25-50</td>\n",
       "      <td>Europe/London</td>\n",
       "      <td>Thursday</td>\n",
       "      <td>Closed Lost</td>\n",
       "    </tr>\n",
       "    <tr>\n",
       "      <th>421</th>\n",
       "      <td>Phone</td>\n",
       "      <td>Manager</td>\n",
       "      <td>Internet Software &amp; Services</td>\n",
       "      <td>25-50</td>\n",
       "      <td>Europe/London</td>\n",
       "      <td>Thursday</td>\n",
       "      <td>Closed Lost</td>\n",
       "    </tr>\n",
       "    <tr>\n",
       "      <th>422</th>\n",
       "      <td>Other</td>\n",
       "      <td>Director</td>\n",
       "      <td>Internet Software &amp; Services</td>\n",
       "      <td>25-50</td>\n",
       "      <td>Europe/London</td>\n",
       "      <td>Thursday</td>\n",
       "      <td>Closed Lost</td>\n",
       "    </tr>\n",
       "    <tr>\n",
       "      <th>...</th>\n",
       "      <td>...</td>\n",
       "      <td>...</td>\n",
       "      <td>...</td>\n",
       "      <td>...</td>\n",
       "      <td>...</td>\n",
       "      <td>...</td>\n",
       "      <td>...</td>\n",
       "    </tr>\n",
       "    <tr>\n",
       "      <th>48029</th>\n",
       "      <td>Email</td>\n",
       "      <td>Unknown</td>\n",
       "      <td>Software Development &amp; Design</td>\n",
       "      <td></td>\n",
       "      <td>US/Eastern</td>\n",
       "      <td>Monday</td>\n",
       "      <td>Disqualified</td>\n",
       "    </tr>\n",
       "    <tr>\n",
       "      <th>48031</th>\n",
       "      <td>Email</td>\n",
       "      <td>Executive</td>\n",
       "      <td>Software Development &amp; Design</td>\n",
       "      <td></td>\n",
       "      <td>US/Eastern</td>\n",
       "      <td>Monday</td>\n",
       "      <td>Disqualified</td>\n",
       "    </tr>\n",
       "    <tr>\n",
       "      <th>48032</th>\n",
       "      <td>Phone</td>\n",
       "      <td>Director</td>\n",
       "      <td>Software Development &amp; Design</td>\n",
       "      <td></td>\n",
       "      <td>US/Eastern</td>\n",
       "      <td>Monday</td>\n",
       "      <td>Disqualified</td>\n",
       "    </tr>\n",
       "    <tr>\n",
       "      <th>48033</th>\n",
       "      <td>Other</td>\n",
       "      <td>Director</td>\n",
       "      <td>Software Development &amp; Design</td>\n",
       "      <td></td>\n",
       "      <td>US/Eastern</td>\n",
       "      <td>Monday</td>\n",
       "      <td>Disqualified</td>\n",
       "    </tr>\n",
       "    <tr>\n",
       "      <th>48030</th>\n",
       "      <td>Email</td>\n",
       "      <td>Individual Contributor</td>\n",
       "      <td>Software Development &amp; Design</td>\n",
       "      <td></td>\n",
       "      <td>US/Eastern</td>\n",
       "      <td>Monday</td>\n",
       "      <td>Disqualified</td>\n",
       "    </tr>\n",
       "  </tbody>\n",
       "</table>\n",
       "<p>6111 rows × 7 columns</p>\n",
       "</div>"
      ],
      "text/plain": [
       "      touch_type           job_seniority                       industry  \\\n",
       "425        Phone                Director   Internet Software & Services   \n",
       "426        Phone          Vice President   Internet Software & Services   \n",
       "423        Email                 Unknown   Internet Software & Services   \n",
       "421        Phone                 Manager   Internet Software & Services   \n",
       "422        Other                Director   Internet Software & Services   \n",
       "...          ...                     ...                            ...   \n",
       "48029      Email                 Unknown  Software Development & Design   \n",
       "48031      Email               Executive  Software Development & Design   \n",
       "48032      Phone                Director  Software Development & Design   \n",
       "48033      Other                Director  Software Development & Design   \n",
       "48030      Email  Individual Contributor  Software Development & Design   \n",
       "\n",
       "        size       location       day  latest_stage  \n",
       "425    25-50  Europe/London  Thursday   Closed Lost  \n",
       "426    25-50  Europe/London  Thursday   Closed Lost  \n",
       "423    25-50  Europe/London  Thursday   Closed Lost  \n",
       "421    25-50  Europe/London  Thursday   Closed Lost  \n",
       "422    25-50  Europe/London  Thursday   Closed Lost  \n",
       "...      ...            ...       ...           ...  \n",
       "48029            US/Eastern    Monday  Disqualified  \n",
       "48031            US/Eastern    Monday  Disqualified  \n",
       "48032            US/Eastern    Monday  Disqualified  \n",
       "48033            US/Eastern    Monday  Disqualified  \n",
       "48030            US/Eastern    Monday  Disqualified  \n",
       "\n",
       "[6111 rows x 7 columns]"
      ]
     },
     "execution_count": 32,
     "metadata": {},
     "output_type": "execute_result"
    }
   ],
   "source": [
    "features = ['touch_type', 'job_seniority', 'industry', 'size', 'location', 'day', 'latest_stage']\n",
    "data_for_algo = data_for_algo[features]\n",
    "data_for_algo = data_for_algo.drop_duplicates()\n",
    "data_for_algo"
   ]
  },
  {
   "cell_type": "code",
   "execution_count": 33,
   "metadata": {},
   "outputs": [
    {
     "data": {
      "text/plain": [
       "touch_type       0\n",
       "job_seniority    0\n",
       "industry         0\n",
       "size             0\n",
       "location         0\n",
       "day              0\n",
       "latest_stage     0\n",
       "dtype: int64"
      ]
     },
     "execution_count": 33,
     "metadata": {},
     "output_type": "execute_result"
    }
   ],
   "source": [
    "data_for_algo.isna().sum()"
   ]
  },
  {
   "cell_type": "markdown",
   "metadata": {},
   "source": [
    "## We have tried Machine Learning to detect the Percentage of Lost Contract using Random Forest Classification"
   ]
  },
  {
   "cell_type": "code",
   "execution_count": 36,
   "metadata": {},
   "outputs": [],
   "source": [
    "import warnings\n",
    "warnings.filterwarnings('ignore')\n",
    "\n",
    "encoding = {}\n",
    "for c in data_for_algo.columns:\n",
    "    if c in [\"latest_stage\"]:\n",
    "        continue\n",
    "    else:\n",
    "        data_for_algo[c] = data_for_algo[c].fillna(\"Others\")\n",
    "        d = pd.get_dummies(data_for_algo[c], prefix=c)\n",
    "        data_for_algo = data_for_algo.drop(columns=[c])\n",
    "        data_for_algo[d.columns] = d\n",
    "        encoding.update({c:d.columns})\n",
    "Y = data_for_algo[[\"latest_stage\"]]\n",
    "X = data_for_algo.drop(columns=[\"latest_stage\"])"
   ]
  },
  {
   "cell_type": "code",
   "execution_count": 37,
   "metadata": {},
   "outputs": [
    {
     "name": "stdout",
     "output_type": "stream",
     "text": [
      "Classification Report\n",
      "              precision    recall  f1-score   support\n",
      "\n",
      " Closed Lost       0.71      0.84      0.77      1017\n",
      "  Closed Won       0.62      0.51      0.56       444\n",
      "Disqualified       0.61      0.45      0.52       373\n",
      "\n",
      "    accuracy                           0.68      1834\n",
      "   macro avg       0.65      0.60      0.62      1834\n",
      "weighted avg       0.67      0.68      0.67      1834\n",
      "\n",
      "\n",
      "Confusion Matrix\n",
      "[[852  97  68]\n",
      " [178 225  41]\n",
      " [162  42 169]]\n"
     ]
    }
   ],
   "source": [
    "# library for Machine Learning Models\n",
    "from sklearn.ensemble import RandomForestClassifier    \n",
    "    \n",
    "# Library for Training and testing data split\n",
    "from sklearn.model_selection import train_test_split\n",
    "\n",
    "# libraries for confusion Matrix, Classification Repports, ROC and AUC\n",
    "from sklearn.metrics import confusion_matrix, classification_report, roc_curve, auc\n",
    "\n",
    "X_train, X_test, y_train, y_test = train_test_split(X, Y, test_size=0.30, stratify=Y)\n",
    "\n",
    "# make Random Forest Classifier object\n",
    "forest = RandomForestClassifier(n_estimators=500, random_state=1)\n",
    "\n",
    "# Train Algo on training data\n",
    "forest.fit(X_train, y_train)\n",
    "\n",
    "# Predict target for testing data\n",
    "y_pred = forest.predict(X_test)\n",
    "\n",
    "print(\"Classification Report\")\n",
    "confusion_report = classification_report(y_test, y_pred)\n",
    "print(confusion_report)\n",
    "\n",
    "print(\"\\nConfusion Matrix\")\n",
    "confusion_attack = confusion_matrix(y_test, y_pred)\n",
    "print(confusion_attack) "
   ]
  },
  {
   "cell_type": "code",
   "execution_count": 38,
   "metadata": {},
   "outputs": [
    {
     "data": {
      "text/plain": [
       "Index(['touch_type_Email', 'touch_type_Other', 'touch_type_Phone',\n",
       "       'job_seniority_Director', 'job_seniority_Executive',\n",
       "       'job_seniority_Individual Contributor', 'job_seniority_Manager',\n",
       "       'job_seniority_Unknown', 'job_seniority_Vice President', 'industry_',\n",
       "       ...\n",
       "       'location_US/Eastern', 'location_US/Mountain', 'location_US/Pacific',\n",
       "       'day_Friday', 'day_Monday', 'day_Saturday', 'day_Sunday',\n",
       "       'day_Thursday', 'day_Tuesday', 'day_Wednesday'],\n",
       "      dtype='object', length=213)"
      ]
     },
     "execution_count": 38,
     "metadata": {},
     "output_type": "execute_result"
    }
   ],
   "source": [
    "X.columns"
   ]
  },
  {
   "cell_type": "markdown",
   "metadata": {},
   "source": [
    "## User System Example\n",
    "\n",
    "- If the company is of type `Internet Software & Services` AND\n",
    "- Size of company is `25-30` AND\n",
    "- Location of company is `Europe/London`, then how you should touch and whom should be contacted?"
   ]
  },
  {
   "cell_type": "code",
   "execution_count": 39,
   "metadata": {
    "scrolled": false
   },
   "outputs": [
    {
     "name": "stdout",
     "output_type": "stream",
     "text": [
      "If you contact Director through Email on Friday, then there is 40.4% chance to LOST\n",
      "---------------------------------------------------------------------------------\n",
      "If you contact Director through Email on Monday, then there is 39.17% chance to LOST\n",
      "---------------------------------------------------------------------------------\n",
      "If you contact Director through Email on Saturday, then there is 39.17% chance to LOST\n",
      "---------------------------------------------------------------------------------\n",
      "If you contact Director through Email on Sunday, then there is 41.84% chance to LOST\n",
      "---------------------------------------------------------------------------------\n",
      "If you contact Director through Email on Thursday, then there is 43.19% chance to LOST\n",
      "---------------------------------------------------------------------------------\n",
      "If you contact Director through Email on Tuesday, then there is 47.3% chance to LOST\n",
      "---------------------------------------------------------------------------------\n",
      "If you contact Director through Email on Wednesday, then there is 48.17% chance to LOST\n",
      "---------------------------------------------------------------------------------\n",
      "If you contact Director through Other on Friday, then there is 52.97% chance to LOST\n",
      "---------------------------------------------------------------------------------\n",
      "If you contact Director through Other on Monday, then there is 52.97% chance to LOST\n",
      "---------------------------------------------------------------------------------\n",
      "If you contact Director through Other on Saturday, then there is 52.97% chance to LOST\n",
      "---------------------------------------------------------------------------------\n",
      "If you contact Director through Other on Sunday, then there is 52.97% chance to LOST\n",
      "---------------------------------------------------------------------------------\n",
      "If you contact Director through Other on Thursday, then there is 52.97% chance to LOST\n",
      "---------------------------------------------------------------------------------\n",
      "If you contact Director through Other on Tuesday, then there is 52.97% chance to LOST\n",
      "---------------------------------------------------------------------------------\n",
      "If you contact Director through Other on Wednesday, then there is 52.97% chance to LOST\n",
      "---------------------------------------------------------------------------------\n",
      "If you contact Director through Phone on Friday, then there is 50.85% chance to LOST\n",
      "---------------------------------------------------------------------------------\n",
      "If you contact Director through Phone on Monday, then there is 50.85% chance to LOST\n",
      "---------------------------------------------------------------------------------\n",
      "If you contact Director through Phone on Saturday, then there is 50.85% chance to LOST\n",
      "---------------------------------------------------------------------------------\n",
      "If you contact Director through Phone on Sunday, then there is 50.85% chance to LOST\n",
      "---------------------------------------------------------------------------------\n",
      "If you contact Director through Phone on Thursday, then there is 50.85% chance to LOST\n",
      "---------------------------------------------------------------------------------\n",
      "If you contact Director through Phone on Tuesday, then there is 50.85% chance to LOST\n",
      "---------------------------------------------------------------------------------\n",
      "If you contact Director through Phone on Wednesday, then there is 50.85% chance to LOST\n",
      "---------------------------------------------------------------------------------\n",
      "If you contact Executive through Email on Friday, then there is 48.55% chance to LOST\n",
      "---------------------------------------------------------------------------------\n",
      "If you contact Executive through Email on Monday, then there is 48.55% chance to LOST\n",
      "---------------------------------------------------------------------------------\n",
      "If you contact Executive through Email on Saturday, then there is 48.55% chance to LOST\n",
      "---------------------------------------------------------------------------------\n",
      "If you contact Executive through Email on Sunday, then there is 48.55% chance to LOST\n",
      "---------------------------------------------------------------------------------\n",
      "If you contact Executive through Email on Thursday, then there is 48.55% chance to LOST\n",
      "---------------------------------------------------------------------------------\n",
      "If you contact Executive through Email on Tuesday, then there is 48.55% chance to LOST\n",
      "---------------------------------------------------------------------------------\n",
      "If you contact Executive through Email on Wednesday, then there is 48.55% chance to LOST\n",
      "---------------------------------------------------------------------------------\n",
      "If you contact Executive through Other on Friday, then there is 48.55% chance to LOST\n",
      "---------------------------------------------------------------------------------\n",
      "If you contact Executive through Other on Monday, then there is 48.55% chance to LOST\n",
      "---------------------------------------------------------------------------------\n",
      "If you contact Executive through Other on Saturday, then there is 48.55% chance to LOST\n",
      "---------------------------------------------------------------------------------\n",
      "If you contact Executive through Other on Sunday, then there is 48.55% chance to LOST\n",
      "---------------------------------------------------------------------------------\n",
      "If you contact Executive through Other on Thursday, then there is 48.55% chance to LOST\n",
      "---------------------------------------------------------------------------------\n",
      "If you contact Executive through Other on Tuesday, then there is 48.55% chance to LOST\n",
      "---------------------------------------------------------------------------------\n",
      "If you contact Executive through Other on Wednesday, then there is 48.55% chance to LOST\n",
      "---------------------------------------------------------------------------------\n",
      "If you contact Executive through Phone on Friday, then there is 48.55% chance to LOST\n",
      "---------------------------------------------------------------------------------\n",
      "If you contact Executive through Phone on Monday, then there is 48.55% chance to LOST\n",
      "---------------------------------------------------------------------------------\n",
      "If you contact Executive through Phone on Saturday, then there is 48.55% chance to LOST\n",
      "---------------------------------------------------------------------------------\n",
      "If you contact Executive through Phone on Sunday, then there is 48.55% chance to LOST\n",
      "---------------------------------------------------------------------------------\n",
      "If you contact Executive through Phone on Thursday, then there is 48.55% chance to LOST\n",
      "---------------------------------------------------------------------------------\n",
      "If you contact Executive through Phone on Tuesday, then there is 48.55% chance to LOST\n",
      "---------------------------------------------------------------------------------\n",
      "If you contact Executive through Phone on Wednesday, then there is 48.55% chance to LOST\n",
      "---------------------------------------------------------------------------------\n",
      "If you contact Individual Contributor through Email on Friday, then there is 45.18% chance to LOST\n",
      "---------------------------------------------------------------------------------\n",
      "If you contact Individual Contributor through Email on Monday, then there is 45.18% chance to LOST\n",
      "---------------------------------------------------------------------------------\n",
      "If you contact Individual Contributor through Email on Saturday, then there is 45.18% chance to LOST\n",
      "---------------------------------------------------------------------------------\n",
      "If you contact Individual Contributor through Email on Sunday, then there is 45.18% chance to LOST\n",
      "---------------------------------------------------------------------------------\n",
      "If you contact Individual Contributor through Email on Thursday, then there is 45.18% chance to LOST\n",
      "---------------------------------------------------------------------------------\n",
      "If you contact Individual Contributor through Email on Tuesday, then there is 45.18% chance to LOST\n",
      "---------------------------------------------------------------------------------\n",
      "If you contact Individual Contributor through Email on Wednesday, then there is 45.18% chance to LOST\n",
      "---------------------------------------------------------------------------------\n",
      "If you contact Individual Contributor through Other on Friday, then there is 45.18% chance to LOST\n",
      "---------------------------------------------------------------------------------\n",
      "If you contact Individual Contributor through Other on Monday, then there is 45.18% chance to LOST\n",
      "---------------------------------------------------------------------------------\n",
      "If you contact Individual Contributor through Other on Saturday, then there is 45.18% chance to LOST\n",
      "---------------------------------------------------------------------------------\n"
     ]
    },
    {
     "name": "stdout",
     "output_type": "stream",
     "text": [
      "If you contact Individual Contributor through Other on Sunday, then there is 45.18% chance to LOST\n",
      "---------------------------------------------------------------------------------\n",
      "If you contact Individual Contributor through Other on Thursday, then there is 45.18% chance to LOST\n",
      "---------------------------------------------------------------------------------\n",
      "If you contact Individual Contributor through Other on Tuesday, then there is 45.18% chance to LOST\n",
      "---------------------------------------------------------------------------------\n",
      "If you contact Individual Contributor through Other on Wednesday, then there is 45.18% chance to LOST\n",
      "---------------------------------------------------------------------------------\n",
      "If you contact Individual Contributor through Phone on Friday, then there is 45.18% chance to LOST\n",
      "---------------------------------------------------------------------------------\n",
      "If you contact Individual Contributor through Phone on Monday, then there is 45.18% chance to LOST\n",
      "---------------------------------------------------------------------------------\n",
      "If you contact Individual Contributor through Phone on Saturday, then there is 45.18% chance to LOST\n",
      "---------------------------------------------------------------------------------\n",
      "If you contact Individual Contributor through Phone on Sunday, then there is 45.18% chance to LOST\n",
      "---------------------------------------------------------------------------------\n",
      "If you contact Individual Contributor through Phone on Thursday, then there is 45.18% chance to LOST\n",
      "---------------------------------------------------------------------------------\n",
      "If you contact Individual Contributor through Phone on Tuesday, then there is 45.18% chance to LOST\n",
      "---------------------------------------------------------------------------------\n",
      "If you contact Individual Contributor through Phone on Wednesday, then there is 45.18% chance to LOST\n",
      "---------------------------------------------------------------------------------\n",
      "If you contact Manager through Email on Friday, then there is 47.87% chance to LOST\n",
      "---------------------------------------------------------------------------------\n",
      "If you contact Manager through Email on Monday, then there is 47.87% chance to LOST\n",
      "---------------------------------------------------------------------------------\n",
      "If you contact Manager through Email on Saturday, then there is 47.87% chance to LOST\n",
      "---------------------------------------------------------------------------------\n",
      "If you contact Manager through Email on Sunday, then there is 47.87% chance to LOST\n",
      "---------------------------------------------------------------------------------\n",
      "If you contact Manager through Email on Thursday, then there is 47.87% chance to LOST\n",
      "---------------------------------------------------------------------------------\n",
      "If you contact Manager through Email on Tuesday, then there is 47.87% chance to LOST\n",
      "---------------------------------------------------------------------------------\n",
      "If you contact Manager through Email on Wednesday, then there is 47.87% chance to LOST\n",
      "---------------------------------------------------------------------------------\n",
      "If you contact Manager through Other on Friday, then there is 47.87% chance to LOST\n",
      "---------------------------------------------------------------------------------\n",
      "If you contact Manager through Other on Monday, then there is 47.87% chance to LOST\n",
      "---------------------------------------------------------------------------------\n",
      "If you contact Manager through Other on Saturday, then there is 47.87% chance to LOST\n",
      "---------------------------------------------------------------------------------\n",
      "If you contact Manager through Other on Sunday, then there is 47.87% chance to LOST\n",
      "---------------------------------------------------------------------------------\n",
      "If you contact Manager through Other on Thursday, then there is 47.87% chance to LOST\n",
      "---------------------------------------------------------------------------------\n",
      "If you contact Manager through Other on Tuesday, then there is 47.87% chance to LOST\n",
      "---------------------------------------------------------------------------------\n",
      "If you contact Manager through Other on Wednesday, then there is 47.87% chance to LOST\n",
      "---------------------------------------------------------------------------------\n",
      "If you contact Manager through Phone on Friday, then there is 47.87% chance to LOST\n",
      "---------------------------------------------------------------------------------\n",
      "If you contact Manager through Phone on Monday, then there is 47.87% chance to LOST\n",
      "---------------------------------------------------------------------------------\n",
      "If you contact Manager through Phone on Saturday, then there is 47.87% chance to LOST\n",
      "---------------------------------------------------------------------------------\n",
      "If you contact Manager through Phone on Sunday, then there is 47.87% chance to LOST\n",
      "---------------------------------------------------------------------------------\n",
      "If you contact Manager through Phone on Thursday, then there is 47.87% chance to LOST\n",
      "---------------------------------------------------------------------------------\n",
      "If you contact Manager through Phone on Tuesday, then there is 47.87% chance to LOST\n",
      "---------------------------------------------------------------------------------\n",
      "If you contact Manager through Phone on Wednesday, then there is 47.87% chance to LOST\n",
      "---------------------------------------------------------------------------------\n",
      "If you contact Unknown through Email on Friday, then there is 49.95% chance to LOST\n",
      "---------------------------------------------------------------------------------\n",
      "If you contact Unknown through Email on Monday, then there is 49.95% chance to LOST\n",
      "---------------------------------------------------------------------------------\n",
      "If you contact Unknown through Email on Saturday, then there is 49.95% chance to LOST\n",
      "---------------------------------------------------------------------------------\n",
      "If you contact Unknown through Email on Sunday, then there is 49.95% chance to LOST\n",
      "---------------------------------------------------------------------------------\n",
      "If you contact Unknown through Email on Thursday, then there is 49.95% chance to LOST\n",
      "---------------------------------------------------------------------------------\n",
      "If you contact Unknown through Email on Tuesday, then there is 49.95% chance to LOST\n",
      "---------------------------------------------------------------------------------\n",
      "If you contact Unknown through Email on Wednesday, then there is 49.95% chance to LOST\n",
      "---------------------------------------------------------------------------------\n",
      "If you contact Unknown through Other on Friday, then there is 49.95% chance to LOST\n",
      "---------------------------------------------------------------------------------\n",
      "If you contact Unknown through Other on Monday, then there is 49.95% chance to LOST\n",
      "---------------------------------------------------------------------------------\n",
      "If you contact Unknown through Other on Saturday, then there is 49.95% chance to LOST\n",
      "---------------------------------------------------------------------------------\n",
      "If you contact Unknown through Other on Sunday, then there is 49.95% chance to LOST\n",
      "---------------------------------------------------------------------------------\n",
      "If you contact Unknown through Other on Thursday, then there is 49.95% chance to LOST\n",
      "---------------------------------------------------------------------------------\n",
      "If you contact Unknown through Other on Tuesday, then there is 49.95% chance to LOST\n",
      "---------------------------------------------------------------------------------\n",
      "If you contact Unknown through Other on Wednesday, then there is 49.95% chance to LOST\n",
      "---------------------------------------------------------------------------------\n",
      "If you contact Unknown through Phone on Friday, then there is 49.95% chance to LOST\n",
      "---------------------------------------------------------------------------------\n",
      "If you contact Unknown through Phone on Monday, then there is 49.95% chance to LOST\n",
      "---------------------------------------------------------------------------------\n",
      "If you contact Unknown through Phone on Saturday, then there is 49.95% chance to LOST\n",
      "---------------------------------------------------------------------------------\n",
      "If you contact Unknown through Phone on Sunday, then there is 49.95% chance to LOST\n",
      "---------------------------------------------------------------------------------\n",
      "If you contact Unknown through Phone on Thursday, then there is 49.95% chance to LOST\n",
      "---------------------------------------------------------------------------------\n"
     ]
    },
    {
     "name": "stdout",
     "output_type": "stream",
     "text": [
      "If you contact Unknown through Phone on Tuesday, then there is 49.95% chance to LOST\n",
      "---------------------------------------------------------------------------------\n",
      "If you contact Unknown through Phone on Wednesday, then there is 49.95% chance to LOST\n",
      "---------------------------------------------------------------------------------\n",
      "If you contact Vice President through Email on Friday, then there is 47.55% chance to LOST\n",
      "---------------------------------------------------------------------------------\n",
      "If you contact Vice President through Email on Monday, then there is 47.55% chance to LOST\n",
      "---------------------------------------------------------------------------------\n",
      "If you contact Vice President through Email on Saturday, then there is 47.55% chance to LOST\n",
      "---------------------------------------------------------------------------------\n",
      "If you contact Vice President through Email on Sunday, then there is 47.55% chance to LOST\n",
      "---------------------------------------------------------------------------------\n",
      "If you contact Vice President through Email on Thursday, then there is 47.55% chance to LOST\n",
      "---------------------------------------------------------------------------------\n",
      "If you contact Vice President through Email on Tuesday, then there is 47.55% chance to LOST\n",
      "---------------------------------------------------------------------------------\n",
      "If you contact Vice President through Email on Wednesday, then there is 47.55% chance to LOST\n",
      "---------------------------------------------------------------------------------\n",
      "If you contact Vice President through Other on Friday, then there is 47.55% chance to LOST\n",
      "---------------------------------------------------------------------------------\n",
      "If you contact Vice President through Other on Monday, then there is 47.55% chance to LOST\n",
      "---------------------------------------------------------------------------------\n",
      "If you contact Vice President through Other on Saturday, then there is 47.55% chance to LOST\n",
      "---------------------------------------------------------------------------------\n",
      "If you contact Vice President through Other on Sunday, then there is 47.55% chance to LOST\n",
      "---------------------------------------------------------------------------------\n",
      "If you contact Vice President through Other on Thursday, then there is 47.55% chance to LOST\n",
      "---------------------------------------------------------------------------------\n",
      "If you contact Vice President through Other on Tuesday, then there is 47.55% chance to LOST\n",
      "---------------------------------------------------------------------------------\n",
      "If you contact Vice President through Other on Wednesday, then there is 47.55% chance to LOST\n",
      "---------------------------------------------------------------------------------\n",
      "If you contact Vice President through Phone on Friday, then there is 47.55% chance to LOST\n",
      "---------------------------------------------------------------------------------\n",
      "If you contact Vice President through Phone on Monday, then there is 47.55% chance to LOST\n",
      "---------------------------------------------------------------------------------\n",
      "If you contact Vice President through Phone on Saturday, then there is 47.55% chance to LOST\n",
      "---------------------------------------------------------------------------------\n",
      "If you contact Vice President through Phone on Sunday, then there is 47.55% chance to LOST\n",
      "---------------------------------------------------------------------------------\n",
      "If you contact Vice President through Phone on Thursday, then there is 47.55% chance to LOST\n",
      "---------------------------------------------------------------------------------\n",
      "If you contact Vice President through Phone on Tuesday, then there is 47.55% chance to LOST\n",
      "---------------------------------------------------------------------------------\n",
      "If you contact Vice President through Phone on Wednesday, then there is 47.55% chance to LOST\n",
      "---------------------------------------------------------------------------------\n"
     ]
    }
   ],
   "source": [
    "rec = [0]*len(X.columns)\n",
    "for designation in encoding['job_seniority']:\n",
    "    for touch_typ in encoding['touch_type']:\n",
    "        for day in encoding['day']:\n",
    "            for c in ['Internet Software & Services', '25-30', 'Europe/London']:    \n",
    "                for i in range(len(X.columns)):\n",
    "                    if c in X.columns[i]:\n",
    "                        rec[i] = 1\n",
    "            rec[X.columns.values.tolist().index(designation)] = 1\n",
    "            rec[X.columns.values.tolist().index(touch_typ)] = 1\n",
    "            rec[X.columns.values.tolist().index(day)] = 1\n",
    "            print(\"If you contact {0} through {1} on {2}, then there is {3}% chance to LOST\".format(designation.split(\"_\")[-1], touch_typ.split(\"_\")[-1], day.split(\"_\")[-1], round(forest.predict_proba([rec])[0][0]*100,2)))\n",
    "            print(\"---------------------------------------------------------------------------------\")"
   ]
  },
  {
   "cell_type": "code",
   "execution_count": null,
   "metadata": {},
   "outputs": [],
   "source": []
  }
 ],
 "metadata": {
  "kernelspec": {
   "display_name": "Python 3",
   "language": "python",
   "name": "python3"
  },
  "language_info": {
   "codemirror_mode": {
    "name": "ipython",
    "version": 3
   },
   "file_extension": ".py",
   "mimetype": "text/x-python",
   "name": "python",
   "nbconvert_exporter": "python",
   "pygments_lexer": "ipython3",
   "version": "3.7.3"
  }
 },
 "nbformat": 4,
 "nbformat_minor": 2
}
